{
  "nbformat": 4,
  "nbformat_minor": 0,
  "metadata": {
    "kernelspec": {
      "display_name": "Python 3",
      "language": "python",
      "name": "python3"
    },
    "language_info": {
      "codemirror_mode": {
        "name": "ipython",
        "version": 3
      },
      "file_extension": ".py",
      "mimetype": "text/x-python",
      "name": "python",
      "nbconvert_exporter": "python",
      "pygments_lexer": "ipython3",
      "version": "3.5.3"
    },
    "colab": {
      "name": "bidirectional-lstm.ipynb",
      "provenance": [],
      "collapsed_sections": [],
      "include_colab_link": true
    },
    "accelerator": "GPU"
  },
  "cells": [
    {
      "cell_type": "markdown",
      "metadata": {
        "id": "view-in-github",
        "colab_type": "text"
      },
      "source": [
        "<a href=\"https://colab.research.google.com/github/LuFernandez/twin-peaks-generator/blob/master/bi_lstm_refactored.ipynb\" target=\"_parent\"><img src=\"https://colab.research.google.com/assets/colab-badge.svg\" alt=\"Open In Colab\"/></a>"
      ]
    },
    {
      "cell_type": "markdown",
      "metadata": {
        "id": "1IZzJr-AWOuC"
      },
      "source": [
        "# Text Generation using Bidirectional LSTM and Doc2Vec models\n",
        "\n",
        "The purpose of [this article](https://medium.com/@david.campion/text-generation-using-bidirectional-lstm-and-doc2vec-models-1-3-8979eb65cb3a) is to discuss about text generation, using machine learning approaches, especially neural networks.\n",
        "\n",
        "It is not the first article about it, and probably not the last. Actually, there is a lot of litterature about text generation using \"AI\" techniques, and some codes are available to generate texts from existing novels, trying to create new chapters for **\"Game of Thrones\"**, **\"Harry Potter\"**, or a new piece in the style of **Shakespears**. Sometimes with interesting results.\n",
        "\n",
        "Mainly, these approaches are using classic LSTM networks, and the are pretty fun to be experimented.\n",
        "\n",
        "However, generated texts provide a taste of unachievement. Generated sentences seems quite right, whith correct grammar and syntax, as if the neural network was understanding correctly the structure of a sentence. But the whole new text does not have great sense. If it is not complete nosense. \n",
        "\n",
        "This problem could come from the approach itself, using only LSTM to generate text word by word. But how can we improve them ? In this article, I will try to investigate a new way to generate sentences.\n",
        "\n",
        "It does not mean that I will use something completely different from LTSM : I am not, I will use LTSM network to generate sequences of words. However I will try to go further than a classic LSTM neural network and I will use an additional neural network (LSTM again), to select the best phrases.\n",
        "\n",
        "Then, this article can be used as a tutorial. It describes :\n",
        " 1. **how to train a neural network to generate sentences** (i.e. sequences of words), based on existing novels. I will use a bidirectional LSTM Architecture to perform that.\n",
        " 2. **how to train a neural network to select the best next sentence for given paragraph** (i.e. a sequence of sentences). I will also use a bidirectional LSTM archicture, in addition to a Doc2Vec model of the target novels.\n",
        "\n",
        "\n",
        "### Note about Data inputs\n",
        "As data inputs, I will not use texts which are not free in term of intellectual properties. So I will not train the solution to create a new chapter for **\"Game of Throne\"** or **\"Harry Potter\"**.\n",
        "Sorry about that, there is plenty of \"free\" text to perform such texts generation exercices and we can dive into the [Gutemberg project](http://www.gutenberg.org), which provides huge amount of texts (from [William Shakespears](http://www.gutenberg.org/ebooks/author/65) to [H.P. Lovecraft](http://www.gutenberg.org/ebooks/author/34724), or other great authors).\n",
        "\n",
        "However, I am also a french author of fantasy and Science fiction. So I will use my personnal material to create a new chapter of my stories, hoping it can help me in my next work!\n",
        "\n",
        "So, I will base this exercice on **\"Artistes et Phalanges\"**, a french fantasy novel I wrote over the 10 past years, wich I hope will be fair enough in term of data inputs. It contains more than 830 000 charaters.\n",
        "\n",
        "By the way, if you're a french reader and found of fantasy, you can find it on iBook store and Amazon Kindle for free... Please note I provide also the data for free on my github repository. Enjoy it!\n",
        "\n",
        "## 1. a Neural Network for Generating Sentences\n",
        "\n",
        "The first step is to generate sentences in the style of a given author.\n",
        "\n",
        "There is huge litterature about it, espacially using LSTM to perform such task. As this kind of network are working well for this job, we will use them.\n",
        "\n",
        "The purpose of this note is not to deep dive into LSTM description, you can find very great article about them and I suggest you to read [this article](http://karpathy.github.io/2015/05/21/rnn-effectiveness/) from Andrej Karpathy.\n",
        "\n",
        "You can also find easily existing code to perform text generation using LSTM. On my github, you can find two tutorials, one using [Tensorflow](https://github.com/campdav/text-rnn-tensorflow), and another one using [Keras](https://github.com/campdav/text-rnn-keras) (over tensorflow), that is easier to understand.\n",
        "\n",
        "For this first part of these exercice, I will re-use these materials, but with few improvements :\n",
        " - Instead of a simple _LSTM_, I will use a _bidirectional LSTM_. This network configuration converge faster than a single LSTM (less epochs are required), and from empiric tests, seems better in term of accuracy. You can have a look at [this article](https://machinelearningmastery.com/develop-bidirectional-lstm-sequence-classification-python-keras/) from Jason Brownlee, for a good tutorial about bidirectional LSTM.\n",
        " - I will use Keras, which require less complexity to create the network of is more readible than conventional Tensorflow code.\n",
        "\n",
        "### 1.1. What is the neural network task in our case ?\n",
        "\n",
        "LSTM (Long Short Term Memory) are very good for analysing sequences of values and predicting the next values from them. For example, LSTM could be a very good choice if you want to predict the very next point of a given time serie (assuming a correlation exist in the sequence).\n",
        "\n",
        "Talking about sentences and texts ; phrases (sentences) are basically sequences of words. So, it is natural to assume LSTM could be usefull to generate the next word of a given sentence.\n",
        "\n",
        "In summary, the objective of a LSTM neural network in this situation is to guess the next word of a given sentence.\n",
        "\n",
        "For example:\n",
        "What is the next word of this following sentence : \"he is walking down the\"\n",
        "\n",
        "Our neural net will take the sequence of words as input : \"he\", \"is\", \"walking\", ...\n",
        "Its ouput will be a matrix providing the probability for each word from the dictionnary to be the next one of the given sentence.\n",
        "\n",
        "Then, how will we build the complete text ? Simply iterating the process, by switching the setence by one word, including the new guessed word at its end. Then, we guess a new word for this new sentence. ad vitam aeternam.\n",
        "\n",
        "### 1.1.1. Process\n",
        "\n",
        "In order to do that, first, we build a dictionary containing all words from the novels we want to use.\n",
        "\n",
        " 1. read the data (the novels we want to use),\n",
        " 1. create the dictionnary of words,\n",
        " 2. create the list of sentences,\n",
        " 3. create the neural network,\n",
        " 4. train the neural network,\n",
        " 5. generate new sentences."
      ]
    },
    {
      "cell_type": "code",
      "metadata": {
        "colab": {
          "base_uri": "https://localhost:8080/"
        },
        "id": "BzDrR6o24gX1",
        "outputId": "0fef19df-8def-4e73-fa28-346fc9570efd"
      },
      "source": [
        "from google.colab import drive\n",
        "drive.mount('/content/drive')"
      ],
      "execution_count": 1,
      "outputs": [
        {
          "output_type": "stream",
          "text": [
            "Drive already mounted at /content/drive; to attempt to forcibly remount, call drive.mount(\"/content/drive\", force_remount=True).\n"
          ],
          "name": "stdout"
        }
      ]
    },
    {
      "cell_type": "code",
      "metadata": {
        "id": "74f1O2AYWOuH"
      },
      "source": [
        "from __future__ import print_function\n",
        "from keras.models import Sequential, Model, load_model\n",
        "from keras.layers import Dense, Activation, Dropout\n",
        "from keras.layers import LSTM, Input, Flatten, Bidirectional\n",
        "from keras.layers.normalization import BatchNormalization\n",
        "from keras.optimizers import Adam\n",
        "from keras.callbacks import EarlyStopping, ModelCheckpoint, LambdaCallback\n",
        "from keras.metrics import categorical_accuracy\n",
        "import numpy as np\n",
        "import random\n",
        "import sys\n",
        "import os\n",
        "import time\n",
        "import codecs\n",
        "import collections\n",
        "from six.moves import cPickle\n",
        "import json"
      ],
      "execution_count": 2,
      "outputs": []
    },
    {
      "cell_type": "code",
      "metadata": {
        "id": "vWZS9VRdTs0F",
        "colab": {
          "base_uri": "https://localhost:8080/"
        },
        "outputId": "dfdcdef5-84a5-4e1d-9027-952c79077f6a"
      },
      "source": [
        "#chequeo estar usando la gpu y me fijo cuál\n",
        "import tensorflow as tf \n",
        "print(tf.test.gpu_device_name())\n",
        "from tensorflow.python.client import device_lib\n",
        "print(device_lib.list_local_devices())"
      ],
      "execution_count": 3,
      "outputs": [
        {
          "output_type": "stream",
          "text": [
            "/device:GPU:0\n",
            "[name: \"/device:CPU:0\"\n",
            "device_type: \"CPU\"\n",
            "memory_limit: 268435456\n",
            "locality {\n",
            "}\n",
            "incarnation: 12261645900467024992\n",
            ", name: \"/device:GPU:0\"\n",
            "device_type: \"GPU\"\n",
            "memory_limit: 14509932544\n",
            "locality {\n",
            "  bus_id: 1\n",
            "  links {\n",
            "  }\n",
            "}\n",
            "incarnation: 241582991588055828\n",
            "physical_device_desc: \"device: 0, name: Tesla T4, pci bus id: 0000:00:04.0, compute capability: 7.5\"\n",
            "]\n"
          ],
          "name": "stdout"
        }
      ]
    },
    {
      "cell_type": "markdown",
      "metadata": {
        "id": "rKQlhpYLWOuI"
      },
      "source": [
        "We have raw text and a lot of things have to be done to use them: split them in words list, etc.\n",
        "In order to do that, I use the spacy library which is incredible to deal with texts. For this exercice, I will only use very few options from spacy."
      ]
    },
    {
      "cell_type": "code",
      "metadata": {
        "collapsed": true,
        "id": "tBCLWPcZWOuI",
        "colab": {
          "base_uri": "https://localhost:8080/"
        },
        "outputId": "ac6ea385-dd95-4a09-b16f-38b565414343"
      },
      "source": [
        "#import spacy, and english model\n",
        "!python -m spacy download en_core_web_sm\n",
        "import spacy\n",
        "nlp = spacy.load(\"en_core_web_sm\")"
      ],
      "execution_count": 4,
      "outputs": [
        {
          "output_type": "stream",
          "text": [
            "Requirement already satisfied: en_core_web_sm==2.2.5 from https://github.com/explosion/spacy-models/releases/download/en_core_web_sm-2.2.5/en_core_web_sm-2.2.5.tar.gz#egg=en_core_web_sm==2.2.5 in /usr/local/lib/python3.7/dist-packages (2.2.5)\n",
            "Requirement already satisfied: spacy>=2.2.2 in /usr/local/lib/python3.7/dist-packages (from en_core_web_sm==2.2.5) (2.2.4)\n",
            "Requirement already satisfied: numpy>=1.15.0 in /usr/local/lib/python3.7/dist-packages (from spacy>=2.2.2->en_core_web_sm==2.2.5) (1.19.5)\n",
            "Requirement already satisfied: murmurhash<1.1.0,>=0.28.0 in /usr/local/lib/python3.7/dist-packages (from spacy>=2.2.2->en_core_web_sm==2.2.5) (1.0.5)\n",
            "Requirement already satisfied: srsly<1.1.0,>=1.0.2 in /usr/local/lib/python3.7/dist-packages (from spacy>=2.2.2->en_core_web_sm==2.2.5) (1.0.5)\n",
            "Requirement already satisfied: setuptools in /usr/local/lib/python3.7/dist-packages (from spacy>=2.2.2->en_core_web_sm==2.2.5) (57.0.0)\n",
            "Requirement already satisfied: plac<1.2.0,>=0.9.6 in /usr/local/lib/python3.7/dist-packages (from spacy>=2.2.2->en_core_web_sm==2.2.5) (1.1.3)\n",
            "Requirement already satisfied: requests<3.0.0,>=2.13.0 in /usr/local/lib/python3.7/dist-packages (from spacy>=2.2.2->en_core_web_sm==2.2.5) (2.23.0)\n",
            "Requirement already satisfied: cymem<2.1.0,>=2.0.2 in /usr/local/lib/python3.7/dist-packages (from spacy>=2.2.2->en_core_web_sm==2.2.5) (2.0.5)\n",
            "Requirement already satisfied: tqdm<5.0.0,>=4.38.0 in /usr/local/lib/python3.7/dist-packages (from spacy>=2.2.2->en_core_web_sm==2.2.5) (4.41.1)\n",
            "Requirement already satisfied: wasabi<1.1.0,>=0.4.0 in /usr/local/lib/python3.7/dist-packages (from spacy>=2.2.2->en_core_web_sm==2.2.5) (0.8.2)\n",
            "Requirement already satisfied: blis<0.5.0,>=0.4.0 in /usr/local/lib/python3.7/dist-packages (from spacy>=2.2.2->en_core_web_sm==2.2.5) (0.4.1)\n",
            "Requirement already satisfied: preshed<3.1.0,>=3.0.2 in /usr/local/lib/python3.7/dist-packages (from spacy>=2.2.2->en_core_web_sm==2.2.5) (3.0.5)\n",
            "Requirement already satisfied: catalogue<1.1.0,>=0.0.7 in /usr/local/lib/python3.7/dist-packages (from spacy>=2.2.2->en_core_web_sm==2.2.5) (1.0.0)\n",
            "Requirement already satisfied: thinc==7.4.0 in /usr/local/lib/python3.7/dist-packages (from spacy>=2.2.2->en_core_web_sm==2.2.5) (7.4.0)\n",
            "Requirement already satisfied: urllib3!=1.25.0,!=1.25.1,<1.26,>=1.21.1 in /usr/local/lib/python3.7/dist-packages (from requests<3.0.0,>=2.13.0->spacy>=2.2.2->en_core_web_sm==2.2.5) (1.24.3)\n",
            "Requirement already satisfied: idna<3,>=2.5 in /usr/local/lib/python3.7/dist-packages (from requests<3.0.0,>=2.13.0->spacy>=2.2.2->en_core_web_sm==2.2.5) (2.10)\n",
            "Requirement already satisfied: certifi>=2017.4.17 in /usr/local/lib/python3.7/dist-packages (from requests<3.0.0,>=2.13.0->spacy>=2.2.2->en_core_web_sm==2.2.5) (2021.5.30)\n",
            "Requirement already satisfied: chardet<4,>=3.0.2 in /usr/local/lib/python3.7/dist-packages (from requests<3.0.0,>=2.13.0->spacy>=2.2.2->en_core_web_sm==2.2.5) (3.0.4)\n",
            "Requirement already satisfied: importlib-metadata>=0.20; python_version < \"3.8\" in /usr/local/lib/python3.7/dist-packages (from catalogue<1.1.0,>=0.0.7->spacy>=2.2.2->en_core_web_sm==2.2.5) (4.5.0)\n",
            "Requirement already satisfied: zipp>=0.5 in /usr/local/lib/python3.7/dist-packages (from importlib-metadata>=0.20; python_version < \"3.8\"->catalogue<1.1.0,>=0.0.7->spacy>=2.2.2->en_core_web_sm==2.2.5) (3.4.1)\n",
            "Requirement already satisfied: typing-extensions>=3.6.4; python_version < \"3.8\" in /usr/local/lib/python3.7/dist-packages (from importlib-metadata>=0.20; python_version < \"3.8\"->catalogue<1.1.0,>=0.0.7->spacy>=2.2.2->en_core_web_sm==2.2.5) (3.7.4.3)\n",
            "\u001b[38;5;2m✔ Download and installation successful\u001b[0m\n",
            "You can now load the model via spacy.load('en_core_web_sm')\n"
          ],
          "name": "stdout"
        }
      ]
    },
    {
      "cell_type": "markdown",
      "metadata": {
        "id": "-A66-e91WOuJ"
      },
      "source": [
        "# parameters"
      ]
    },
    {
      "cell_type": "code",
      "metadata": {
        "id": "608Hi9WdwsUj"
      },
      "source": [
        "from datetime import datetime\n",
        "import pytz\n",
        "\n",
        "tz_bsas = pytz.timezone('America/Buenos_Aires') \n",
        "datetime_bsas = datetime.now(tz_bsas)\n",
        "date = datetime_bsas.strftime(\"%Y-%m-%d-%Hh_%Mm\")"
      ],
      "execution_count": 5,
      "outputs": []
    },
    {
      "cell_type": "code",
      "metadata": {
        "collapsed": true,
        "id": "V6S-FjXjWOuJ"
      },
      "source": [
        "data_dir = '/content/drive/MyDrive/twin-peaks-generator/data'# data directory containing input.txt\n",
        "save_dir = '/content/drive/MyDrive/twin-peaks-generator/save/' + date # directory to store models\n",
        "os.mkdir(save_dir)\n",
        "seq_length = 35 # sequence length\n",
        "sequences_step = 1 #step to create sequences"
      ],
      "execution_count": 6,
      "outputs": []
    },
    {
      "cell_type": "code",
      "metadata": {
        "collapsed": true,
        "id": "GSGnk4ayWOuK"
      },
      "source": [
        "# file_list = [\"100\",\"101\",\"102\",\"103\",\"104\",\"105\",\"201\",\"202\",\"203\",\"204\",\"205\",\"206\",\"207\",\"208\",\"209\",\"210\",\"211\",\"212\",\"213\",\"214\",\"215\",\"216\",\"217\",\"218\",\"219\",\"220\",\"221\",\"222\"]\n",
        "file_list = [\"101\",\"202\",\"210\",\"216\"]\n",
        "vocab_file = os.path.join(save_dir, \"words_vocab.pkl\")"
      ],
      "execution_count": 7,
      "outputs": []
    },
    {
      "cell_type": "markdown",
      "metadata": {
        "id": "hLi_ZvgkWOuK"
      },
      "source": [
        "# read data\n",
        "\n",
        "I create a specific function to create a list of words from raw text. I use spacy library, with a specific function to retrieve only lower character of the words and remove carriage returns (\\n).\n",
        "\n",
        "I am doing that because I want to reduce the number of potential words in my dictionnary, and I assume we do not have to avoid capital letters. Indeed, they are only part of the syntax of the text, it's shape, and do not deals with its sense."
      ]
    },
    {
      "cell_type": "code",
      "metadata": {
        "collapsed": true,
        "id": "CLpVmxTGWOuK"
      },
      "source": [
        "def create_wordlist(doc):\n",
        "    wl = []\n",
        "    for word in doc:\n",
        "        if word.text not in (\"\\n\",\"\\n\\n\", '\\n\\n\\n', '\\n\\n\\n\\n', '\\n\\n\\n\\n\\n','\\n\\n\\n\\n\\n\\n','\\n\\n\\n\\n\\n\\n\\n','\\n\\n\\n\\n\\n\\n\\n\\n', '\\n\\n\\n\\n\\n\\n\\n\\n\\n',\n",
        "                             '\\n\\n\\n\\n\\n\\n\\n\\n\\n\\n', '\\n\\n\\n\\n\\n\\n\\n\\n\\n\\n\\n', '\\n\\n\\n\\n\\n\\n\\n\\n\\n \\n', '\\n\\n\\n\\n\\n\\n\\n\\n ', '\\n\\n\\n\\n\\n\\n\\n\\n \\n', '\\n\\n\\n\\n\\n\\n\\n ',\n",
        "                             '\\n\\n\\n\\n\\n\\n\\n \\n', '\\n\\n\\n\\n\\n\\n\\n \\n\\n\\n\\n', '\\n\\n\\n\\n\\n\\n ', '\\n\\n\\n\\n\\n\\n \\n', '\\n\\n\\n\\n\\n\\n \\n\\n\\n', '\\n\\n\\n\\n\\n\\n \\n\\n\\n\\n\\n',\n",
        "                             '\\n\\n\\n\\n\\n\\n  ', '\\n\\n\\n\\n\\n ', '\\n\\n\\n\\n\\n \\n', '\\n\\n\\n\\n\\n \\n\\n', '\\n\\n\\n\\n\\n \\n\\n\\n', '\\n\\n\\n\\n\\n \\n\\n\\n\\n\\n', '\\n\\n\\n\\n\\n  ',\n",
        "                             '\\n\\n\\n\\n ', '\\n\\n\\n\\n \\n', '\\n\\n\\n\\n \\n\\n', '\\n\\n\\n\\n \\n\\n\\n\\n', '\\n\\n\\n ', '\\n\\n ', '\\n\\n \\n', '\\n\\n \\n\\n\\n\\n', '\\n ', '\\n \\n',\n",
        "                              '\\u2009','\\xa0'):\n",
        "            wl.append(word.text.lower())\n",
        "    return wl"
      ],
      "execution_count": 8,
      "outputs": []
    },
    {
      "cell_type": "markdown",
      "metadata": {
        "id": "Cwp-SqxEWOuL"
      },
      "source": [
        "Create the list of sentences:"
      ]
    },
    {
      "cell_type": "code",
      "metadata": {
        "collapsed": true,
        "id": "7tSqMUNfWOuL"
      },
      "source": [
        "wordlist = []\n",
        "for file_name in file_list:\n",
        "    input_file = os.path.join(data_dir, file_name + \".txt\")\n",
        "    #read data\n",
        "    with codecs.open(input_file, \"r\") as f:\n",
        "        data = f.read()\n",
        "    #create sentences\n",
        "    doc = nlp(data)\n",
        "    wl = create_wordlist(doc)\n",
        "    wordlist = wordlist + wl"
      ],
      "execution_count": 9,
      "outputs": []
    },
    {
      "cell_type": "code",
      "metadata": {
        "colab": {
          "base_uri": "https://localhost:8080/"
        },
        "id": "jiSXxyky7HYB",
        "outputId": "43e6b4e3-e62d-47de-a05e-71d14bf47e61"
      },
      "source": [
        "len(wordlist)"
      ],
      "execution_count": 10,
      "outputs": [
        {
          "output_type": "execute_result",
          "data": {
            "text/plain": [
              "42004"
            ]
          },
          "metadata": {
            "tags": []
          },
          "execution_count": 10
        }
      ]
    },
    {
      "cell_type": "markdown",
      "metadata": {
        "id": "C1CobyAiWOuM"
      },
      "source": [
        "## Create dictionary\n",
        "\n",
        "The first step is to create the dictionnary, it means, the list of all words contained in texts. For each word, we will assign an index to it. "
      ]
    },
    {
      "cell_type": "code",
      "metadata": {
        "id": "9_g7kc5RWOuM",
        "colab": {
          "base_uri": "https://localhost:8080/"
        },
        "outputId": "56b11e13-5284-4e55-a3a8-11471593f19d"
      },
      "source": [
        "# count the number of words\n",
        "word_counts = collections.Counter(wordlist)\n",
        "\n",
        "# Mapping from index to word : that's the vocabulary\n",
        "vocabulary_inv = [x[0] for x in word_counts.most_common()]\n",
        "vocabulary_inv = list(sorted(vocabulary_inv))\n",
        "\n",
        "# Mapping from word to index\n",
        "vocab = {x: i for i, x in enumerate(vocabulary_inv)}\n",
        "words = [x[0] for x in word_counts.most_common()]\n",
        "\n",
        "#size of the vocabulary\n",
        "vocab_size = len(words)\n",
        "print(\"vocab size: \", vocab_size)\n",
        "\n",
        "#save the words and vocabulary\n",
        "with open(os.path.join(vocab_file), 'wb') as f:\n",
        "    cPickle.dump((words, vocab, vocabulary_inv), f)"
      ],
      "execution_count": 11,
      "outputs": [
        {
          "output_type": "stream",
          "text": [
            "vocab size:  4609\n"
          ],
          "name": "stdout"
        }
      ]
    },
    {
      "cell_type": "code",
      "metadata": {
        "id": "GNDKcN_ZndB_",
        "colab": {
          "base_uri": "https://localhost:8080/"
        },
        "outputId": "c327abac-f463-415e-ec83-46eb625cc3b3"
      },
      "source": [
        "print(vocab)"
      ],
      "execution_count": 12,
      "outputs": [
        {
          "output_type": "stream",
          "text": [
            "{' ': 0, '!': 1, '\"': 2, '$': 3, '&': 4, \"'\": 5, \"'d\": 6, \"'em\": 7, \"'ll\": 8, \"'m\": 9, \"'re\": 10, \"'s\": 11, \"'ve\": 12, '(': 13, ')': 14, ',': 15, '-': 16, '--': 17, '--no': 18, '.': 19, '..': 20, '...': 21, '....': 22, '/': 23, '12': 24, '125,0': 25, '12:30': 26, '15a.': 27, '173': 28, '18': 29, '18a.': 30, '19': 31, '1914': 32, '1965': 33, '2': 34, '20': 35, '207': 36, '213': 37, '3': 38, '315': 39, '32': 40, '33': 41, '36-footer': 42, '37': 43, '38': 44, '39a.omitted': 45, '39b.': 46, '39b.int': 47, '4': 48, '5a.': 49, '5th': 50, '6': 51, '64': 52, '6:18': 53, '7': 54, '9': 55, '9/4': 56, ':': 57, ';': 58, '?': 59, '[': 60, ']': 61, 'a': 62, 'a.d.': 63, 'a.m.': 64, 'abandoned': 65, 'ability': 66, 'able': 67, 'about': 68, 'above': 69, 'abrupt': 70, 'abruptly': 71, 'absence': 72, 'absent': 73, 'absentmindedly': 74, 'absolute': 75, 'absolutely': 76, 'academy': 77, 'accept': 78, 'acceptance': 79, 'accident': 80, 'accidental': 81, 'accommodations': 82, 'according': 83, 'account': 84, 'accurately': 85, 'aces': 86, 'achievement': 87, 'acknowledge': 88, 'acquainted': 89, 'across': 90, 'act': 91, 'action': 92, 'actions': 93, 'activates': 94, 'actually': 95, 'add': 96, 'adding': 97, 'address': 98, 'addressed': 99, 'adds': 100, 'adjacent': 101, 'administrative': 102, 'admiring': 103, 'admit': 104, 'adolescent': 105, 'adorable': 106, 'advancing': 107, 'advantage': 108, 'advice': 109, 'advised': 110, 'affable': 111, 'affairs': 112, 'affect': 113, 'affection': 114, 'affects': 115, 'affix': 116, 'affixes': 117, 'affront': 118, 'afraid': 119, 'after': 120, 'afternoon': 121, 'afternoons': 122, 'again': 123, 'against': 124, 'age': 125, 'agenda': 126, 'agent': 127, 'agents': 128, 'aggressiveness': 129, 'aghast': 130, 'agitated': 131, 'ago': 132, 'agree': 133, 'ah': 134, 'ahead': 135, 'ahh': 136, 'aid': 137, 'aim': 138, 'aimed': 139, 'air': 140, 'airport': 141, 'alarming': 142, 'albert': 143, 'alert': 144, 'alibi': 145, 'alive': 146, 'all': 147, 'allegations': 148, 'allowed': 149, 'allows': 150, 'ally': 151, 'almost': 152, 'alone': 153, 'along': 154, 'already': 155, 'alright': 156, 'also': 157, 'always': 158, 'am': 159, 'amazed': 160, 'amazement': 161, 'amazing': 162, 'ambient': 163, 'amen': 164, 'amidst': 165, 'amnesia': 166, 'among': 167, 'amount': 168, 'amounts': 169, 'an': 170, 'and': 171, 'andrew': 172, 'andy': 173, 'angel': 174, 'angels': 175, 'anger': 176, 'angle': 177, 'angrily': 178, 'angry': 179, 'animated': 180, 'ankles': 181, 'annie': 182, 'another': 183, 'answer': 184, 'answering': 185, 'answers': 186, 'anther': 187, 'any': 188, 'anybody': 189, 'anymore': 190, 'anyone': 191, 'anything': 192, 'anyway': 193, 'anywhere': 194, 'apart': 195, 'apartment': 196, 'appalled': 197, 'apparently': 198, 'appeals': 199, 'appear': 200, 'appears': 201, 'applauds': 202, 'apple': 203, 'applied': 204, 'applies': 205, 'appointment': 206, 'appreciate': 207, 'appreciated': 208, 'approaches': 209, 'approaching': 210, 'appropriate': 211, 'apron': 212, 'arc': 213, 'are': 214, 'area': 215, 'aria': 216, 'arm': 217, 'armani': 218, 'armchair': 219, 'armed': 220, 'arms': 221, 'around': 222, 'arrangements': 223, 'arranges': 224, 'arrayed': 225, 'arrest': 226, 'arrive': 227, 'arrived': 228, 'arrow': 229, 'arrowhead': 230, 'arson': 231, 'arteries': 232, 'artful': 233, 'as': 234, 'ashamed': 235, 'ashes': 236, 'asian': 237, 'aside': 238, 'ask': 239, 'asked': 240, 'asking': 241, 'asleep': 242, 'aspiration': 243, 'ass': 244, 'assemble': 245, 'assent': 246, 'assistant': 247, 'assisted': 248, 'associated': 249, 'assume': 250, 'assuming': 251, 'assure': 252, 'at': 253, 'ate': 254, 'atop': 255, 'attaches': 256, 'attacked': 257, 'attempt': 258, 'attempted': 259, 'attend': 260, 'attention': 261, 'attire': 262, 'attitude': 263, 'attractive': 264, 'audience': 265, 'audio': 266, 'auditioning': 267, 'audobon': 268, 'audrey': 269, 'aunt': 270, 'authorities': 271, 'autopsy': 272, 'autumnal': 273, 'available': 274, 'away': 275, 'awful': 276, 'awile': 277, 'awkward': 278, 'b': 279, 'b.g': 280, 'baah': 281, 'babe': 282, 'babies': 283, 'baby': 284, 'babysitting': 285, 'back': 286, 'background': 287, 'backhands': 288, 'backing': 289, 'backs': 290, 'backwards': 291, 'bacon': 292, 'bad': 293, 'badge': 294, 'badly': 295, 'bag': 296, 'bagged': 297, 'baggy': 298, 'bags': 299, 'baguette': 300, 'bail': 301, 'baleful': 302, 'ball': 303, 'balls': 304, 'bambino': 305, 'bandage': 306, 'bang': 307, 'bank': 308, 'bankrupt': 309, 'banner': 310, 'bar': 311, 'barely': 312, 'bark': 313, 'barks': 314, 'bars': 315, 'base': 316, 'baseball': 317, 'basket': 318, 'bastard': 319, 'bathe': 320, 'bathroom': 321, 'battis': 322, 'bay': 323, 'be': 324, 'beach': 325, 'beaming': 326, 'beams': 327, 'beans': 328, 'bear': 329, 'bearclaw': 330, 'bearclaws': 331, 'beat': 332, 'beaten': 333, 'beats': 334, 'beautiful': 335, 'beauty': 336, 'beaver': 337, 'because': 338, 'beclouded': 339, 'become': 340, 'bed': 341, 'bedroom': 342, 'bedside': 343, 'bedtime': 344, 'beeline': 345, 'been': 346, 'beep': 347, 'beeper': 348, 'beer': 349, 'before': 350, 'befuddlement': 351, 'began': 352, 'begging': 353, 'begin': 354, 'beginnings': 355, 'begins': 356, 'begrudge': 357, 'beguiling': 358, 'behalf': 359, 'behavior': 360, 'behind': 361, 'behold': 362, 'beige': 363, 'being': 364, 'believe': 365, 'believed': 366, 'believing': 367, 'belive': 368, 'bellhops': 369, 'bellman': 370, 'bellows': 371, 'belongs': 372, 'beloved': 373, 'below': 374, 'belt': 375, 'ben': 376, 'bend': 377, 'bends': 378, 'beneath': 379, 'beneficiaries': 380, 'beneficiary': 381, 'benefit': 382, 'benignly': 383, 'benjamin': 384, 'bereft': 385, 'berth': 386, 'beside': 387, 'besides': 388, 'best': 389, 'bestsmelling': 390, 'bet': 391, 'beta': 392, 'betrayal': 393, 'betrayed': 394, 'better': 395, 'betting': 396, 'betty': 397, 'between': 398, 'beyond': 399, 'bicycle': 400, 'bidets': 401, 'big': 402, 'bigger': 403, 'biggest': 404, 'bike': 405, 'bills': 406, 'bind': 407, 'birthday': 408, 'bit': 409, 'bitch': 410, 'bite': 411, 'bites': 412, 'black': 413, 'blackened': 414, 'blackie': 415, 'blame': 416, 'blames': 417, 'blanc': 418, 'blank': 419, 'blanket': 420, 'bleat': 421, 'bleeds': 422, 'blessed': 423, 'blessings': 424, 'blew': 425, 'blindfold': 426, 'blindfolded': 427, 'blinds': 428, 'blinking': 429, 'block': 430, 'blond': 431, 'blondes': 432, 'blood': 433, 'bloodstain': 434, 'bloodstained': 435, 'bloody': 436, 'blouse': 437, 'blow': 438, 'blower': 439, 'blowing': 440, 'blows': 441, 'blue': 442, 'blues': 443, 'blush': 444, 'board': 445, 'boat': 446, 'bob': 447, 'bobby': 448, 'bodies': 449, 'body': 450, 'bodyguard': 451, 'bolivian': 452, 'bolt': 453, 'bolts': 454, 'bomb': 455, 'bombshell': 456, 'bond': 457, 'bone': 458, 'bones': 459, 'book': 460, 'bookhouse': 461, 'books': 462, 'boom': 463, 'booth': 464, 'boots': 465, 'bop': 466, 'bopper': 467, 'border': 468, 'borders': 469, 'bore': 470, 'bored': 471, 'boring': 472, 'boss': 473, 'both': 474, 'bothering': 475, 'bottles': 476, 'bottom': 477, 'bought': 478, 'bounce': 479, 'bounces': 480, 'bound': 481, 'bounds': 482, 'bouquet': 483, 'bow': 484, 'bowl': 485, 'box': 486, 'boxer': 487, 'boxes': 488, 'boy': 489, 'boyfriend': 490, 'boyfriends': 491, 'boys': 492, 'bracelet': 493, 'braces': 494, 'braids': 495, 'brain': 496, 'brainstorm': 497, 'brakelights': 498, 'branches': 499, 'brass': 500, 'brave': 501, 'bravery': 502, 'breach': 503, 'break': 504, 'breakfast': 505, 'breaking': 506, 'breaks': 507, 'breast': 508, 'breath': 509, 'breathless': 510, 'breezes': 511, 'breezily': 512, 'brennan': 513, 'brennen': 514, 'brewskis': 515, 'bridge': 516, 'brie': 517, 'brief': 518, 'briefcase': 519, 'briefly': 520, 'briggs': 521, 'bright': 522, 'brightening': 523, 'brightens': 524, 'brightly': 525, 'brilliant': 526, 'bring': 527, 'bringing': 528, 'brings': 529, 'broadcasting': 530, 'broke': 531, 'broker': 532, 'brokered': 533, 'brother': 534, 'brothers': 535, 'brought': 536, 'brown': 537, 'brushing': 538, 'brutally': 539, 'btsan': 540, 'bubble': 541, 'bubbly': 542, 'buck': 543, 'bucket': 544, 'buddhist': 545, 'buddy': 546, 'buffalo': 547, 'buffet': 548, 'bug': 549, 'bugging': 550, 'build': 551, 'building': 552, 'built': 553, 'bulbs': 554, 'bulgarian': 555, 'bulky': 556, 'bullet': 557, 'bulletin': 558, 'bullets': 559, 'bumblebee': 560, 'bumper': 561, 'bun': 562, 'bunch': 563, 'bundle': 564, 'burden': 565, 'bureau': 566, 'bureaucracy': 567, 'burn': 568, 'burned': 569, 'burning': 570, 'burns': 571, 'burst': 572, 'bursts': 573, 'bury': 574, 'bus': 575, 'business': 576, 'businesses': 577, 'businessman': 578, 'bust': 579, 'busted': 580, 'busting': 581, 'bustling': 582, 'busy': 583, 'but': 584, 'butler': 585, 'butt': 586, 'butte': 587, 'butter': 588, 'button': 589, 'buy': 590, 'buying': 591, 'buzz': 592, 'buzzes': 593, 'by': 594, 'bye': 595, \"c'est\": 596, \"c'mon\": 597, 'ca': 598, 'cab': 599, 'cabin': 600, 'cabinet': 601, 'cable': 602, 'cake': 603, 'calender': 604, 'calhoun': 605, 'call': 606, 'called': 607, 'calling': 608, 'callous': 609, 'calls': 610, 'calm': 611, 'calmly': 612, 'came': 613, 'camera': 614, 'camp': 615, 'campfire': 616, 'camping': 617, 'campsite': 618, 'can': 619, 'canada': 620, 'canadian': 621, 'canape': 622, 'canapes': 623, 'candidly': 624, 'candles': 625, 'cans': 626, 'cap': 627, 'capable': 628, 'captain': 629, 'car': 630, 'card': 631, 'care': 632, 'careful': 633, 'carefully': 634, 'caress': 635, 'carnage': 636, 'carpet': 637, 'carries': 638, 'carry': 639, 'carrying': 640, 'cars': 641, 'cartridge': 642, 'cartwheels': 643, 'casablanca': 644, 'case': 645, 'cash': 646, 'cassette': 647, 'cat': 648, 'catcher': 649, 'catches': 650, 'catherine': 651, 'caught': 652, 'cause': 653, 'cautiously': 654, 'ceiling': 655, 'cell': 656, 'center': 657, 'century': 658, 'certain': 659, 'certainly': 660, 'chair': 661, 'chairs': 662, 'chambermaids': 663, 'champagne': 664, 'champion': 665, 'chance': 666, 'change': 667, 'changing': 668, 'character': 669, 'characters': 670, 'charge': 671, 'charged': 672, 'charging': 673, 'charm': 674, 'charmed': 675, 'charms': 676, 'chastened': 677, 'chat': 678, 'cheat': 679, 'check': 680, 'checkbook': 681, 'checked': 682, 'checkers': 683, 'checks': 684, 'cheek': 685, 'cheeks': 686, 'cheer': 687, 'cheerfully': 688, 'cheering': 689, 'cheerleader': 690, 'cheerleading': 691, 'cheery': 692, 'cheese': 693, 'cherry': 694, 'chess': 695, 'chest': 696, 'chew': 697, 'chews': 698, 'chick': 699, 'chicken': 700, 'chief': 701, 'child': 702, 'childhood': 703, 'children': 704, 'chill': 705, 'chilling': 706, 'chills': 707, 'chin': 708, 'chinese': 709, 'chips': 710, 'chirps': 711, 'chocolate': 712, 'choice': 713, 'choices': 714, 'chokes': 715, 'chomping': 716, 'chomps': 717, 'choose': 718, 'cider': 719, 'cigarette': 720, 'cigarettes': 721, 'circles': 722, 'circular': 723, 'circumstances': 724, 'circus': 725, 'civilian': 726, 'class': 727, 'classic': 728, 'claus': 729, 'clean': 730, 'cleaner': 731, 'cleaning': 732, 'clear': 733, 'cleared': 734, 'clearly': 735, 'clears': 736, 'clench': 737, 'cliches': 738, 'cliches\"-cooper': 739, 'client': 740, 'clinical': 741, 'clink': 742, 'cloaked': 743, 'clock': 744, 'clocks': 745, 'close': 746, 'closed': 747, 'closer': 748, 'closes': 749, 'closest': 750, 'closet': 751, 'closing': 752, 'cloth': 753, 'clothes': 754, 'clothing': 755, 'clouds': 756, 'club': 757, 'clucking': 758, 'clues': 759, 'clutch': 760, 'clutches': 761, 'coach': 762, 'coat': 763, 'coated': 764, 'cobbler': 765, 'cocaine': 766, 'cocking': 767, 'cocks': 768, 'coconut': 769, 'code': 770, 'coffee': 771, 'coffin': 772, 'coincidence': 773, 'cola': 774, 'cold': 775, 'collapses': 776, 'collapsing': 777, 'collar': 778, 'colleague': 779, 'collect': 780, 'collectively': 781, 'collegiate': 782, 'color': 783, 'colored': 784, 'colors': 785, 'columbian': 786, 'column': 787, 'coma': 788, 'combination': 789, 'come': 790, 'comes': 791, 'comfortable': 792, 'comforting': 793, 'comin': 794, 'coming': 795, 'commissioned': 796, 'commit': 797, 'commited': 798, 'common': 799, 'communications': 800, 'companion': 801, 'company': 802, 'compassion': 803, 'compassionate': 804, 'competent': 805, 'competition': 806, 'complaints': 807, 'complete': 808, 'completely': 809, 'completing': 810, 'complicated': 811, 'composing': 812, 'composure': 813, 'computer': 814, 'concentrate': 815, 'concentrates': 816, 'concentration': 817, 'concept': 818, 'concern': 819, 'concerned': 820, 'concessions': 821, 'concierge': 822, 'conclusion': 823, 'conclusions': 824, 'concussion': 825, 'condescending': 826, 'condition': 827, 'conditions': 828, 'conducting': 829, 'cone': 830, 'conference': 831, 'confess': 832, 'confessed': 833, 'confessing': 834, 'confide': 835, 'confidence': 836, 'confidentiality': 837, 'confiding': 838, 'confine': 839, 'confirming': 840, 'confront': 841, 'confronting': 842, 'confronts': 843, 'confused': 844, 'congratulations': 845, 'connection': 846, 'connections': 847, 'conscious': 848, 'consent': 849, 'consequences': 850, 'consider': 851, 'consideration': 852, 'considered': 853, 'considering': 854, 'consistent': 855, 'consorting': 856, 'consternation': 857, 'constituents': 858, 'constitute': 859, 'construction': 860, 'consults': 861, 'consumes': 862, \"cont'd\": 863, 'contacting': 864, 'contain': 865, 'containing': 866, 'contemplation': 867, 'contempt': 868, 'content': 869, 'contents': 870, 'contest': 871, 'continue': 872, 'continues': 873, 'continuing': 874, 'continuously': 875, 'contract': 876, 'contradiction': 877, 'contrariness': 878, 'control': 879, 'convene': 880, 'convent': 881, 'conversation': 882, 'converse': 883, 'convertible': 884, 'conviction': 885, 'convinced': 886, 'cook': 887, 'cookin': 888, 'cooking': 889, 'cookout': 890, 'cool': 891, 'coooper': 892, 'coop': 893, 'cooper': 894, 'cooperation': 895, 'cordialfollow': 896, 'corkscrew': 897, 'corn': 898, 'corner': 899, 'corners': 900, 'corporation': 901, 'correct': 902, 'correctly': 903, 'corridor': 904, 'corruption': 905, 'cost': 906, 'costs': 907, 'cot': 908, 'cots': 909, 'cottages': 910, 'cotton': 911, 'couch': 912, 'could': 913, 'count': 914, 'counter': 915, 'counties': 916, 'country': 917, 'counts': 918, 'county': 919, 'couple': 920, 'course': 921, 'court': 922, 'cousin': 923, 'cover': 924, 'covered': 925, 'covering': 926, 'covers': 927, 'cow': 928, 'cowboy': 929, 'cowers': 930, 'cowled': 931, 'crackers': 932, 'cradle': 933, 'cradling': 934, 'crap': 935, 'craps': 936, 'crash': 937, 'crashing': 938, 'crazy': 939, 'cream': 940, 'creams': 941, 'credit': 942, 'cremate': 943, 'crib': 944, 'crime': 945, 'crimes': 946, 'criminal': 947, 'criminally': 948, 'crispy': 949, 'critic': 950, 'critical': 951, 'croesus': 952, 'crop': 953, 'cross': 954, 'crossed': 955, 'crosses': 956, 'crossing': 957, 'crowd': 958, 'crows': 959, 'cruching': 960, 'crucified': 961, 'cruel': 962, 'cruiser': 963, 'crumbled': 964, 'crutches': 965, 'cry': 966, 'crying': 967, 'crystal': 968, 'cup': 969, 'cupped': 970, 'cups': 971, 'cure': 972, 'curiosity': 973, 'curled': 974, 'current': 975, 'cursed': 976, 'curtain': 977, 'curtains': 978, 'custody': 979, 'customary': 980, 'customer': 981, 'customers': 982, 'customized': 983, 'cut': 984, 'cute': 985, 'cutest': 986, 'cuts': 987, 'cutting': 988, 'cycle': 989, 'd': 990, 'dad': 991, 'daddy': 992, 'daggers': 993, 'dalai': 994, 'dale': 995, 'damage': 996, 'damaged': 997, 'damn': 998, 'dance': 999, 'dances': 1000, 'dancing': 1001, 'dangerous': 1002, 'dare': 1003, 'dark': 1004, 'darkened': 1005, 'darkness': 1006, 'darling': 1007, 'dart': 1008, 'date': 1009, 'dating': 1010, 'daughter': 1011, 'daughters': 1012, 'dawn': 1013, 'day': 1014, 'days': 1015, 'dazed': 1016, 'dea': 1017, 'dead': 1018, 'deadline': 1019, 'deadly': 1020, 'deadpan': 1021, 'deadpans': 1022, 'deafening': 1023, 'deal': 1024, 'deals': 1025, 'dear': 1026, 'dearest': 1027, 'death': 1028, 'deaths': 1029, 'decade': 1030, 'deceased': 1031, 'deceitful': 1032, 'decency': 1033, 'decide': 1034, 'decided': 1035, 'decides': 1036, 'decision': 1037, 'decked': 1038, 'decode': 1039, 'decrepit': 1040, 'dedication': 1041, 'deep': 1042, 'deepens': 1043, 'deeper': 1044, 'deeply': 1045, 'defending': 1046, 'defense': 1047, 'definitely': 1048, 'degrees': 1049, 'deleted': 1050, 'deliberately': 1051, 'delicate': 1052, 'delight': 1053, 'delighted': 1054, 'delinquent': 1055, 'deliver': 1056, 'delivered': 1057, 'delivering': 1058, 'delivers': 1059, 'delivery': 1060, 'demeanor': 1061, 'demonically': 1062, 'demons': 1063, 'demonstrate': 1064, 'denial': 1065, 'department': 1066, 'departs': 1067, 'depends': 1068, 'deposit': 1069, 'depressed': 1070, 'deprivation': 1071, 'dept': 1072, 'deputy': 1073, 'description': 1074, 'deserve': 1075, 'desire': 1076, 'desk': 1077, 'desperate': 1078, 'desperately': 1079, 'dessert': 1080, 'details': 1081, 'determine': 1082, 'determined': 1083, 'detest': 1084, 'devastated': 1085, 'developmcnt': 1086, 'development': 1087, 'devil': 1088, 'dharma': 1089, 'dial': 1090, 'dialogue': 1091, 'dials': 1092, 'diane': 1093, 'diapers': 1094, 'diary': 1095, 'dick': 1096, 'did': 1097, 'die': 1098, 'died': 1099, 'difference': 1100, 'different': 1101, 'difficult': 1102, 'dig': 1103, 'digging': 1104, 'dignity': 1105, 'diner': 1106, 'dining': 1107, 'dinner': 1108, 'dinners': 1109, 'direct': 1110, 'directed': 1111, 'direction': 1112, 'directions': 1113, 'directly': 1114, 'dirndl': 1115, 'dirt': 1116, 'dirty': 1117, 'disability': 1118, 'disappear': 1119, 'disappearance': 1120, 'disappears': 1121, 'disaster': 1122, 'disasterous': 1123, 'discovered': 1124, 'discuss': 1125, 'discussed': 1126, 'disguise': 1127, 'disgusting': 1128, 'dishes': 1129, 'disheveled': 1130, 'dismounts': 1131, 'display': 1132, 'displayed': 1133, 'disputing': 1134, 'dissolve': 1135, 'dissuaded': 1136, 'distance': 1137, 'distaste': 1138, 'distraught': 1139, 'disturb': 1140, 'disturbing': 1141, 'divorce': 1142, 'do': 1143, 'doc': 1144, 'doctors': 1145, 'document': 1146, 'does': 1147, 'does--': 1148, 'dog': 1149, 'doggone': 1150, 'dogs': 1151, 'doing': 1152, 'doll': 1153, 'dollar': 1154, 'dollars': 1155, 'dollop': 1156, \"don't\": 1157, \"don't-(screams\": 1158, 'donald': 1159, 'done': 1160, 'donna': 1161, 'donnna': 1162, 'donors': 1163, 'donut': 1164, 'donuts': 1165, 'doomed': 1166, 'door': 1167, 'doorbell': 1168, 'doors': 1169, 'doorway': 1170, 'doozy': 1171, 'dostoyevsky': 1172, 'double': 1173, 'doublechecks': 1174, 'doublestumped': 1175, 'doubletakes': 1176, 'doubt': 1177, 'doughnut': 1178, 'dougie': 1179, 'douglas': 1180, 'dove': 1181, 'down': 1182, 'downs': 1183, 'downstairs': 1184, 'downtown': 1185, 'dr': 1186, 'dr.': 1187, 'drag': 1188, 'dragged': 1189, 'drain': 1190, 'drama': 1191, 'dramatic': 1192, 'drape': 1193, 'draped': 1194, 'drapes': 1195, 'draw': 1196, 'drawer': 1197, 'drawers': 1198, 'drawing': 1199, 'drawn': 1200, 'draws': 1201, 'dread': 1202, 'dreading': 1203, 'dream': 1204, 'dreamed': 1205, 'dreamland': 1206, 'dreams': 1207, 'dress': 1208, 'dressed': 1209, 'dresses': 1210, 'dressing': 1211, 'drew': 1212, 'dries': 1213, 'drifts': 1214, 'drink': 1215, 'drinking': 1216, 'drinks': 1217, 'drips': 1218, 'drive': 1219, 'driven': 1220, 'driver': 1221, 'drives': 1222, 'drool': 1223, 'dropped': 1224, 'drops': 1225, 'drove': 1226, 'drug': 1227, 'drugged': 1228, 'drugs': 1229, 'drunken': 1230, 'dry': 1231, 'drying': 1232, 'ducking': 1233, 'ducks': 1234, 'dull': 1235, 'duly': 1236, 'dumping': 1237, 'dumps': 1238, 'during': 1239, 'dusk': 1240, 'dust': 1241, 'dustbuster': 1242, 'dusters': 1243, 'dusty': 1244, 'duty': 1245, 'dwayne': 1246, 'dwells': 1247, 'dying': 1248, 'e': 1249, 'each': 1250, 'eager': 1251, 'eagerly': 1252, 'ear': 1253, 'earle': 1254, 'earlier': 1255, 'early': 1256, 'earnest': 1257, 'ears': 1258, 'earth': 1259, 'ease': 1260, 'easel': 1261, 'easy': 1262, 'eat': 1263, 'eaten': 1264, 'eating': 1265, 'eats': 1266, 'eckhardt': 1267, 'ecstatic': 1268, 'ed': 1269, 'eddie': 1270, 'edge': 1271, 'edges': 1272, 'editorial': 1273, 'education': 1274, 'effect': 1275, 'effective': 1276, 'egg': 1277, 'eggs': 1278, 'eight': 1279, 'eighteen': 1280, 'eighty': 1281, 'eileen': 1282, 'einer': 1283, 'either': 1284, 'eject': 1285, 'el': 1286, 'elaborate': 1287, 'elderly': 1288, 'electric': 1289, 'electronic': 1290, 'elevator': 1291, 'elevators': 1292, 'else': 1293, 'em': 1294, 'embarrassed': 1295, 'embrace': 1296, 'embraces': 1297, 'embroidered': 1298, 'emile': 1299, 'emory': 1300, 'emotion': 1301, 'emotional': 1302, 'emotions': 1303, 'empire': 1304, 'employee': 1305, 'empties': 1306, 'empty': 1307, 'en': 1308, 'end': 1309, 'ended': 1310, 'endings': 1311, 'energy': 1312, 'engage': 1313, 'engaged': 1314, 'engine': 1315, 'english': 1316, 'enjoy': 1317, 'enjoying': 1318, 'enjoys': 1319, 'enlisted': 1320, 'enormous': 1321, 'enough': 1322, 'enter': 1323, 'entering': 1324, 'enters': 1325, 'entertain': 1326, 'enthusiasm': 1327, 'enthusiastic': 1328, 'entire': 1329, 'entirely': 1330, 'entrance': 1331, 'entwined': 1332, 'envelope': 1333, 'envelopes': 1334, 'environmental': 1335, 'epidemic': 1336, 'equally': 1337, 'equipment': 1338, 'era': 1339, 'ern': 1340, 'ernie': 1341, 'escaped': 1342, 'escapes': 1343, 'escort': 1344, 'escorted': 1345, 'escorts': 1346, 'especially': 1347, 'establish': 1348, 'established': 1349, 'establishment': 1350, 'estimated': 1351, 'etc': 1352, 'eternal': 1353, 'ethics': 1354, 'europe': 1355, 'evacuation': 1356, 'evelyn': 1357, 'even': 1358, 'evening': 1359, 'events': 1360, 'ever': 1361, 'every': 1362, 'everybody': 1363, 'everyday': 1364, 'everyone': 1365, 'everything': 1366, 'everywhere': 1367, 'evidence': 1368, 'evident': 1369, 'evil': 1370, 'exact': 1371, 'exactly': 1372, 'examine': 1373, 'examined': 1374, 'examiner': 1375, 'examines': 1376, 'exasperated': 1377, 'excavated': 1378, 'exceeded': 1379, 'except': 1380, 'exception': 1381, 'exchanges': 1382, 'excuse': 1383, 'execute': 1384, 'execution': 1385, 'executive': 1386, 'exhales': 1387, 'exhausted': 1388, 'existence': 1389, 'exists': 1390, 'exit': 1391, 'exiting': 1392, 'exits': 1393, 'exorcised': 1394, 'expectorates': 1395, 'experience': 1396, 'expertly': 1397, 'explain': 1398, 'explained': 1399, 'exploit': 1400, 'explosion': 1401, 'expounds': 1402, 'express': 1403, 'expressing': 1404, 'expression': 1405, 'ext': 1406, 'extends': 1407, 'extension': 1408, 'extent': 1409, 'exterior': 1410, 'extinct': 1411, 'extra': 1412, 'extradition': 1413, 'extraordinary': 1414, 'extremely': 1415, 'eye': 1416, 'eyed': 1417, 'eyes': 1418, 'eyewitness': 1419, 'face': 1420, 'faces': 1421, 'fact': 1422, 'fade': 1423, 'faded': 1424, 'fades': 1425, 'fading': 1426, 'fail': 1427, 'failing': 1428, 'faint': 1429, 'fair': 1430, 'fairvale': 1431, 'fake': 1432, 'falcon': 1433, 'fall': 1434, 'fallen': 1435, 'falling': 1436, 'falls': 1437, 'familial': 1438, 'familiar': 1439, 'family': 1440, 'far': 1441, 'farm': 1442, 'fascinated': 1443, 'fascinating': 1444, 'fast': 1445, 'fat': 1446, 'fate': 1447, 'father': 1448, 'fatherhood': 1449, 'fatherly': 1450, 'fathomless': 1451, 'fault': 1452, 'favor': 1453, 'favorite': 1454, 'fax': 1455, 'fbi': 1456, 'fear': 1457, 'fearful': 1458, 'feathers': 1459, 'features': 1460, 'featuring': 1461, 'february': 1462, 'federal': 1463, 'feed': 1464, 'feel': 1465, 'feeling': 1466, 'feelings': 1467, 'feels': 1468, 'feet': 1469, 'feets': 1470, 'fell': 1471, 'fella': 1472, 'fellas': 1473, 'fellow': 1474, 'felon': 1475, 'felonies': 1476, 'felons': 1477, 'felt': 1478, 'ferguson': 1479, 'feud': 1480, 'fevered': 1481, 'few': 1482, 'fi': 1483, 'fidgets': 1484, 'fielding': 1485, 'fifth': 1486, 'fifties': 1487, 'fifty': 1488, 'fight': 1489, 'fightin': 1490, 'fighting': 1491, 'fights': 1492, 'figure': 1493, 'figuring': 1494, 'file': 1495, 'files': 1496, 'filing': 1497, 'filled': 1498, 'filling': 1499, 'final': 1500, 'finally': 1501, 'financial': 1502, 'find': 1503, 'finds': 1504, 'fine': 1505, 'finest': 1506, 'finger': 1507, 'fingers': 1508, 'finish': 1509, 'finished': 1510, 'finishes': 1511, 'finishing': 1512, 'fir': 1513, 'fire': 1514, 'fired': 1515, 'fireplace': 1516, 'firing': 1517, 'firm': 1518, 'firmly': 1519, 'firs': 1520, 'first': 1521, 'fish': 1522, 'fishermen': 1523, 'fishin': 1524, 'fishing': 1525, 'fists': 1526, 'fit': 1527, 'fits': 1528, 'five': 1529, 'fix': 1530, 'fixes': 1531, 'flamboyance': 1532, 'flame': 1533, 'flames': 1534, 'flanked': 1535, 'flannel': 1536, 'flash': 1537, 'flew': 1538, 'flicks': 1539, 'flies': 1540, 'flight': 1541, 'flights': 1542, 'flings': 1543, 'flip': 1544, 'float': 1545, 'flooded': 1546, 'floor': 1547, 'floors': 1548, 'flowers': 1549, 'flowing': 1550, 'flows': 1551, 'flummoxed': 1552, 'flushed': 1553, 'flustered': 1554, 'flute': 1555, 'fly': 1556, 'flyer': 1557, 'foam': 1558, 'focus': 1559, 'focusing': 1560, 'folded': 1561, 'folder': 1562, 'folders': 1563, 'folding': 1564, 'folds': 1565, 'folks': 1566, 'followed': 1567, 'following': 1568, 'follows': 1569, 'fond': 1570, 'food': 1571, 'foods': 1572, 'fool': 1573, 'fooling': 1574, 'foot': 1575, 'football': 1576, 'footsteps': 1577, 'for': 1578, 'force': 1579, 'forceful': 1580, 'forcefully': 1581, 'forces': 1582, 'forehead': 1583, 'foreign': 1584, 'foreseeable': 1585, 'foresight': 1586, 'forever': 1587, 'forget': 1588, 'forgive': 1589, 'fork': 1590, 'form': 1591, 'formal': 1592, 'formaldehyde': 1593, 'formation': 1594, 'former': 1595, 'formidable': 1596, 'forth': 1597, 'forty': 1598, 'forward': 1599, 'forwards': 1600, 'found': 1601, 'foundation': 1602, 'four': 1603, 'fourteen': 1604, 'foyer': 1605, 'frame': 1606, 'framed': 1607, 'frantically': 1608, 'frappe': 1609, 'free': 1610, 'freeze': 1611, 'freezes': 1612, 'french': 1613, 'fresh': 1614, 'freshly': 1615, 'fret': 1616, 'friday': 1617, 'fried': 1618, 'friend': 1619, 'friendly': 1620, 'friends': 1621, 'friendship': 1622, 'fright': 1623, 'frightening': 1624, 'frog': 1625, 'from': 1626, 'front': 1627, 'frosty': 1628, 'frowns': 1629, 'frozen': 1630, 'fruit': 1631, 'frustrate': 1632, 'frying': 1633, 'fugitive': 1634, 'full': 1635, 'fully': 1636, 'fumble': 1637, 'fumes': 1638, 'fun': 1639, 'functions': 1640, 'funeral': 1641, 'funny': 1642, 'furiously': 1643, 'furniture': 1644, 'further': 1645, 'fury': 1646, 'fussin': 1647, 'future': 1648, 'gaily': 1649, 'gain': 1650, 'gained': 1651, 'gaining': 1652, 'galaxies': 1653, 'gambit': 1654, 'gamble': 1655, 'gamblers': 1656, 'game': 1657, 'games': 1658, 'gamut': 1659, 'gang': 1660, 'garage': 1661, 'garb': 1662, 'garbage': 1663, 'garlic': 1664, 'garotte': 1665, 'gas': 1666, 'gasoline': 1667, 'gasping': 1668, 'gasps': 1669, 'gather': 1670, 'gathering': 1671, 'gave': 1672, 'gaze': 1673, 'gazes': 1674, 'gazette': 1675, 'gear': 1676, 'gears': 1677, 'gee': 1678, 'geez': 1679, 'generations': 1680, 'gent': 1681, 'gentle': 1682, 'gentlemen': 1683, 'gently': 1684, 'gestures': 1685, 'get': 1686, 'getaway': 1687, 'gets': 1688, 'getting': 1689, 'ghost': 1690, 'ghostwood': 1691, 'gibberish': 1692, 'gift': 1693, 'gifts': 1694, 'giggle': 1695, 'giggles': 1696, 'ginger': 1697, 'gingerly': 1698, 'girl': 1699, 'girlfriend': 1700, 'girls': 1701, 'give': 1702, 'given': 1703, 'gives': 1704, 'giving': 1705, 'glad': 1706, 'glance': 1707, 'glances': 1708, 'glare': 1709, 'glares': 1710, 'glaring': 1711, 'glass': 1712, 'glasses': 1713, 'gleaming': 1714, 'glee': 1715, 'gleefully': 1716, 'glimpse': 1717, 'glorious': 1718, 'gloves': 1719, 'glowing': 1720, 'glued': 1721, 'gnarly': 1722, 'gnyan': 1723, 'go': 1724, 'goat': 1725, 'goats': 1726, 'god': 1727, 'goes': 1728, \"goin'\": 1729, 'going': 1730, 'golden': 1731, 'gon': 1732, 'gone': 1733, 'goner': 1734, 'good': 1735, 'goodbye': 1736, 'got': 1737, 'gotten': 1738, 'government': 1739, 'gown': 1740, 'grab': 1741, 'grabbing': 1742, 'grabs': 1743, 'gracefully': 1744, 'grade': 1745, 'graduate': 1746, 'grain': 1747, 'grand': 1748, 'grandfather': 1749, 'grapefruit': 1750, 'grapefruits': 1751, 'grass': 1752, 'grateful': 1753, 'gratitude': 1754, 'grave': 1755, 'great': 1756, 'greatest': 1757, 'greatly': 1758, 'greege': 1759, 'green': 1760, 'greet': 1761, 'grew': 1762, 'griddlecake': 1763, 'griddlecakes': 1764, 'grief': 1765, 'grimaces': 1766, 'grinning': 1767, 'grins': 1768, 'grips': 1769, 'groceries': 1770, 'grocery': 1771, 'ground': 1772, 'grounds': 1773, 'grow': 1774, 'growing': 1775, 'growl': 1776, 'grown': 1777, 'grows': 1778, 'gto': 1779, 'guaranteed': 1780, 'guarantees': 1781, 'guard': 1782, 'guardian': 1783, 'guess': 1784, 'guesses': 1785, 'guests': 1786, 'guide': 1787, 'guilty': 1788, 'guitar': 1789, 'gun': 1790, 'gunshot': 1791, 'gurgles': 1792, 'gust': 1793, 'gutter': 1794, 'guy': 1795, 'guys': 1796, 'gym': 1797, 'ha': 1798, 'habits': 1799, 'had': 1800, 'hair': 1801, 'haired': 1802, 'half': 1803, 'halfway': 1804, 'hall': 1805, 'halloween': 1806, 'hallway': 1807, 'ham': 1808, 'hanalei': 1809, 'hand': 1810, 'handcuffed': 1811, 'handed': 1812, 'handfull': 1813, 'handgun': 1814, 'handing': 1815, 'handkerchief': 1816, 'handle': 1817, 'handling': 1818, 'handmade': 1819, 'hands': 1820, 'handsome': 1821, 'hang': 1822, 'hanging': 1823, 'hangs': 1824, 'hank': 1825, 'hapless': 1826, 'happen': 1827, 'happened': 1828, 'happening': 1829, 'happens': 1830, 'happier': 1831, 'happily': 1832, 'happy': 1833, 'hard': 1834, 'hardened': 1835, 'harder': 1836, 'hardware': 1837, 'hardy': 1838, 'harley': 1839, 'harold': 1840, 'harp': 1841, 'harried': 1842, 'harry': 1843, 'has': 1844, 'hat': 1845, 'hate': 1846, 'hated': 1847, 'hating': 1848, 'haunting': 1849, 'have': 1850, 'having': 1851, 'hawaiian': 1852, 'hawk': 1853, 'hayward': 1854, 'he': 1855, 'head': 1856, 'headboard': 1857, 'heading': 1858, 'headline': 1859, 'headlock': 1860, 'headphones': 1861, 'headress': 1862, 'heads': 1863, 'healing': 1864, 'health': 1865, 'hear': 1866, 'heard': 1867, 'hearing': 1868, 'hears': 1869, 'heart': 1870, 'hearted': 1871, 'heaven': 1872, 'heavenly': 1873, 'heavens': 1874, 'heavy': 1875, 'heels': 1876, 'hefting': 1877, 'hefts': 1878, 'hefty': 1879, 'heidi': 1880, 'heightens': 1881, 'heinous': 1882, 'held': 1883, 'hell': 1884, 'hello': 1885, 'help': 1886, 'helped': 1887, 'helping': 1888, 'henry': 1889, 'her': 1890, 'here': 1891, 'herman': 1892, 'heroic': 1893, 'hers': 1894, 'herself': 1895, 'hesitates': 1896, 'hey': 1897, 'hi': 1898, 'hidden': 1899, 'hide': 1900, 'hides': 1901, 'hifi': 1902, 'high': 1903, 'hiked': 1904, 'hill': 1905, 'him': 1906, 'himself': 1907, 'hint': 1908, 'hips': 1909, 'hired': 1910, 'hiring': 1911, 'his': 1912, 'hissing': 1913, 'histories': 1914, 'history': 1915, 'hit': 1916, 'hits': 1917, 'hiya': 1918, 'hmm': 1919, 'ho': 1920, 'hobbles': 1921, 'hold': 1922, 'holding': 1923, 'holds': 1924, 'hole': 1925, 'holes': 1926, 'holster': 1927, 'home': 1928, 'homecoming': 1929, 'homeless': 1930, 'homework': 1931, 'homicide': 1932, 'honest': 1933, 'honestly': 1934, 'honey': 1935, 'hong': 1936, 'honking': 1937, 'honor': 1938, 'honored': 1939, 'hood': 1940, 'hooker': 1941, 'hoots': 1942, 'hop': 1943, 'hope': 1944, 'hoped': 1945, 'hoping': 1946, 'hops': 1947, 'horn': 1948, 'horne': 1949, 'hornes': 1950, 'horns': 1951, 'horrible': 1952, 'horrified': 1953, 'horror': 1954, 'horses': 1955, 'hose': 1956, 'hospital': 1957, 'hot': 1958, 'hotel': 1959, 'hour': 1960, 'hours': 1961, 'house': 1962, 'household': 1963, 'housekeeping': 1964, 'hovering': 1965, 'how': 1966, 'however': 1967, 'howl': 1968, 'howls': 1969, 'huff': 1970, 'huh': 1971, 'human': 1972, 'humongous': 1973, 'humored': 1974, 'hums': 1975, 'hundred': 1976, 'hungry': 1977, 'hunter': 1978, 'hunting': 1979, 'hurley': 1980, 'hurries': 1981, 'hurt': 1982, 'hurts': 1983, 'hus': 1984, 'husband': 1985, 'i': 1986, \"i'll\": 1987, 'i-(loses': 1988, 'i.': 1989, 'ice': 1990, 'iceland': 1991, 'icelandic': 1992, 'icemen': 1993, \"id'd\": 1994, 'idea': 1995, 'if': 1996, 'ignites': 1997, 'ignorance': 1998, 'ignored': 1999, 'ignores': 2000, 'image': 2001, 'imagine': 2002, 'immediate': 2003, 'immediately': 2004, 'immedidately': 2005, 'immerse': 2006, 'imminent': 2007, 'impact': 2008, 'imparts': 2009, 'impatiently': 2010, 'impenetrable': 2011, 'imperceptibly': 2012, 'implied': 2013, 'important': 2014, 'impressed': 2015, 'impressions': 2016, 'improper': 2017, 'impulsive': 2018, 'in': 2019, 'incapable': 2020, 'inches': 2021, 'incident': 2022, 'incinerate': 2023, 'included': 2024, 'incomplete': 2025, 'inconstant': 2026, 'incorporated': 2027, 'increase': 2028, 'incredible': 2029, 'incredibly': 2030, 'indeed': 2031, 'indian': 2032, 'indicated': 2033, 'indicates': 2034, 'indifference': 2035, 'indifferently': 2036, 'individuals': 2037, 'induced': 2038, 'industrial': 2039, 'industries': 2040, 'inedible': 2041, 'inevitably': 2042, 'inflicted': 2043, 'info': 2044, 'inform': 2045, 'information': 2046, 'inn': 2047, 'innocent': 2048, 'inquest': 2049, 'inquire': 2050, 'ins': 2051, 'insane': 2052, 'insensate': 2053, 'inserts': 2054, 'inside': 2055, 'insincerely': 2056, 'insist': 2057, 'inspiration': 2058, 'inspired': 2059, 'installed': 2060, 'instance': 2061, 'instant': 2062, 'instantly': 2063, 'instead': 2064, 'institutions': 2065, 'instruction': 2066, 'insurance': 2067, 'insure': 2068, 'int': 2069, 'intelligence': 2070, 'intelligible': 2071, 'intend': 2072, 'intensive': 2073, 'intent': 2074, 'intercom': 2075, 'intercut': 2076, 'interest': 2077, 'interested': 2078, 'interesting': 2079, 'interior': 2080, 'intermediate': 2081, 'internal': 2082, 'international': 2083, 'internationally': 2084, 'interrogating': 2085, 'interrogation': 2086, 'interrupt': 2087, 'interrupting': 2088, 'interruption': 2089, 'interrupts': 2090, 'intervenes': 2091, 'interview': 2092, 'intimately': 2093, 'into': 2094, 'intricately': 2095, 'intrigued': 2096, 'introduced': 2097, 'introduction': 2098, 'intrudes': 2099, 'inventing': 2100, 'invested': 2101, 'investigate': 2102, 'investigating': 2103, 'investigation': 2104, 'investigatory': 2105, 'investment': 2106, 'investors': 2107, 'invisible': 2108, 'invitation': 2109, 'invite': 2110, 'invites': 2111, 'involved': 2112, 'involvement': 2113, 'inwards': 2114, 'irish': 2115, 'irked': 2116, 'irks': 2117, 'irregularities': 2118, 'irritated': 2119, 'is': 2120, 'issue': 2121, 'issues': 2122, 'it': 2123, 'itch': 2124, 'item': 2125, 'its': 2126, 'itself': 2127, 'ivy': 2128, 'j': 2129, 'jac': 2130, 'jack': 2131, 'jack\\'s\"--': 2132, 'jacket': 2133, 'jacks': 2134, 'jacoby': 2135, 'jacques': 2136, 'jagged': 2137, 'jail': 2138, 'james': 2139, 'jamin': 2140, 'janek': 2141, 'januarydecember': 2142, 'jaw': 2143, 'jazz': 2144, 'jealous': 2145, 'jean': 2146, 'jeans': 2147, 'jeez': 2148, 'jelly': 2149, 'jennings': 2150, 'jer': 2151, 'jerry': 2152, 'jester': 2153, 'jet': 2154, 'jfk': 2155, 'jim': 2156, 'jimmies': 2157, 'job': 2158, 'jocelyn-(covering': 2159, 'joe': 2160, 'jogged': 2161, 'john': 2162, 'johnny': 2163, 'johnson': 2164, 'join': 2165, 'joins': 2166, 'joise': 2167, 'joke': 2168, 'joking': 2169, 'jonathan': 2170, 'jones': 2171, 'josie': 2172, 'judge': 2173, 'judges': 2174, 'judging': 2175, 'juice': 2176, 'julie': 2177, 'jumbled': 2178, 'jump': 2179, 'jumped': 2180, 'jumps': 2181, 'junket': 2182, 'jurisdictional': 2183, 'just': 2184, 'justice': 2185, 'keep': 2186, 'keeping': 2187, 'keeps': 2188, 'kennedys': 2189, 'kept': 2190, 'key': 2191, 'keyboard': 2192, 'keys': 2193, 'kick': 2194, 'kicked': 2195, 'kicks': 2196, 'kid': 2197, 'kidding': 2198, 'kidnappers': 2199, 'kids': 2200, 'kill': 2201, 'killed': 2202, 'killer': 2203, 'killing': 2204, 'killings': 2205, 'kilo': 2206, 'kilos': 2207, 'kind': 2208, \"kind'a\": 2209, 'kindling': 2210, 'kindness': 2211, 'king': 2212, 'kings': 2213, 'kiss': 2214, 'kisses': 2215, 'kissing': 2216, 'kitchen': 2217, 'kneeling': 2218, 'kneels': 2219, 'knees': 2220, 'knew': 2221, 'knife': 2222, 'knifepoint': 2223, 'knifes': 2224, 'knock': 2225, 'knocks': 2226, 'knot': 2227, 'knothead': 2228, 'know': 2229, 'knowing': 2230, 'known': 2231, 'knows': 2232, 'knuckle': 2233, 'knuckled': 2234, 'knuckles': 2235, 'kong': 2236, 'koro': 2237, 'l': 2238, 'lad': 2239, 'ladders': 2240, 'ladies': 2241, 'lady': 2242, 'laid': 2243, 'lain': 2244, 'lake': 2245, 'lakes': 2246, 'lama': 2247, 'lamplighter': 2248, 'land': 2249, 'landing': 2250, 'lands': 2251, 'language': 2252, 'lap': 2253, 'large': 2254, 'lashing': 2255, 'lasker': 2256, 'last': 2257, 'lasting': 2258, 'late': 2259, 'later': 2260, 'latest': 2261, 'laugh': 2262, 'laughing': 2263, 'laughs': 2264, 'laundered': 2265, 'laundry': 2266, 'laura': 2267, 'law': 2268, 'lawful': 2269, 'lawrence': 2270, 'lawyer': 2271, 'lay': 2272, 'laying': 2273, 'lays': 2274, 'lazare': 2275, 'lead': 2276, 'leading': 2277, 'leads': 2278, 'league': 2279, 'leak': 2280, 'leans': 2281, 'leap': 2282, 'learn': 2283, 'learned': 2284, 'learning': 2285, 'least': 2286, 'leave': 2287, 'leavened': 2288, 'leaves': 2289, 'leaving': 2290, 'lecture': 2291, 'ledger': 2292, 'ledgers': 2293, 'left': 2294, 'legless': 2295, 'lei': 2296, 'leland': 2297, 'lemon': 2298, 'lends': 2299, 'leo': 2300, 'lesions': 2301, 'less': 2302, 'lesson': 2303, 'let': 2304, 'lets': 2305, 'letters': 2306, 'letting': 2307, 'level': 2308, 'lewis': 2309, 'liberty': 2310, 'library': 2311, 'license': 2312, 'lick': 2313, 'lie': 2314, 'lies': 2315, 'life': 2316, 'lift': 2317, 'lifts': 2318, 'light': 2319, 'lightened': 2320, 'lightening': 2321, 'lightheaded': 2322, 'lightly': 2323, 'lights': 2324, 'like': 2325, 'liked': 2326, 'likely': 2327, 'likes': 2328, 'liking': 2329, 'limit': 2330, 'limits': 2331, 'line': 2332, 'lined': 2333, 'lines': 2334, 'lingers': 2335, 'lingo': 2336, 'lip': 2337, 'lipped': 2338, 'lips': 2339, 'lipstick': 2340, 'liquor': 2341, 'list': 2342, 'listen': 2343, 'listening': 2344, 'listens': 2345, 'literal': 2346, 'literally': 2347, 'litter': 2348, 'little': 2349, 'live': 2350, 'lived': 2351, 'lives': 2352, 'living': 2353, 'lizard': 2354, 'load': 2355, 'loaded': 2356, 'loading': 2357, 'loads': 2358, 'loathes': 2359, 'lobby': 2360, 'local': 2361, 'locked': 2362, 'locker': 2363, 'locks': 2364, 'lodge': 2365, 'lodged': 2366, 'log': 2367, 'long': 2368, 'longer': 2369, 'longest': 2370, 'longhaired': 2371, 'look': 2372, 'looked': 2373, 'lookin': 2374, 'looking': 2375, 'looks': 2376, 'loose': 2377, 'loosened': 2378, 'lord': 2379, 'lose': 2380, 'loser': 2381, 'losing': 2382, 'loss': 2383, 'losses': 2384, 'lost': 2385, 'lot': 2386, 'loud': 2387, 'louder': 2388, 'lounge': 2389, 'lounging': 2390, 'love': 2391, 'loved': 2392, 'lover': 2393, 'loves': 2394, 'loving': 2395, 'low': 2396, 'lower': 2397, 'lowering': 2398, 'lowers': 2399, 'luck': 2400, 'lucky': 2401, 'lucy': 2402, 'luggage': 2403, 'luminous': 2404, 'lumps': 2405, 'lunch': 2406, 'lured': 2407, 'lurking': 2408, 'lust': 2409, 'lying': 2410, 'm': 2411, 'm.': 2412, \"ma'am\": 2413, 'machine': 2414, 'mad': 2415, 'maddy': 2416, 'made': 2417, 'magic': 2418, 'magical': 2419, 'mahogany': 2420, 'mail': 2421, 'mailed': 2422, 'maintain': 2423, 'maintenance': 2424, 'maitre': 2425, 'major': 2426, 'make': 2427, 'makes': 2428, 'making': 2429, 'male': 2430, 'malice': 2431, 'mall': 2432, 'malt': 2433, 'malted': 2434, 'malteds': 2435, 'mama': 2436, 'man': 2437, 'manage': 2438, 'managed': 2439, 'manages': 2440, 'manhood': 2441, 'manic': 2442, 'manila': 2443, 'manilla': 2444, 'manly': 2445, 'manner': 2446, 'manslaughter': 2447, 'mantle': 2448, 'many': 2449, 'maple': 2450, 'mapped': 2451, 'march': 2452, 'marches': 2453, 'marilyn': 2454, 'marinade': 2455, 'marked': 2456, 'marketing': 2457, 'marks': 2458, 'maroon': 2459, 'marraige': 2460, 'marriage': 2461, 'married': 2462, 'marry': 2463, 'marshmallow': 2464, 'marshmallows': 2465, 'marshmellow': 2466, 'martel': 2467, 'martell': 2468, 'marvelous': 2469, 'maryland': 2470, 'mashes': 2471, 'mask': 2472, 'masse': 2473, 'massive': 2474, 'match': 2475, 'matched': 2476, 'matching': 2477, 'material': 2478, 'matt': 2479, 'matter': 2480, 'mattress': 2481, 'may': 2482, 'maybe': 2483, 'mayor': 2484, 'me': 2485, 'meal': 2486, 'meals': 2487, 'mean': 2488, 'means': 2489, 'meant': 2490, 'meantime': 2491, 'meanwhile': 2492, 'meatloaf': 2493, 'medals': 2494, 'medical': 2495, 'medicine': 2496, 'meditative': 2497, 'meet': 2498, 'meeting': 2499, 'meetings': 2500, 'meets': 2501, 'mellow': 2502, 'melodrama': 2503, 'melody': 2504, 'melts': 2505, 'members': 2506, 'memorial': 2507, 'memories': 2508, 'memorize': 2509, 'memory': 2510, 'men': 2511, 'menace': 2512, 'mention': 2513, 'menu': 2514, 'merit': 2515, 'mess': 2516, 'message': 2517, 'messages': 2518, 'met': 2519, 'metabolism': 2520, 'metal': 2521, 'methods': 2522, 'meticulously': 2523, 'microrecorder': 2524, 'middle': 2525, 'midge': 2526, 'midnight': 2527, 'mien': 2528, 'might': 2529, 'mike': 2530, \"mike're\": 2531, 'miles': 2532, 'milford': 2533, 'milkballs': 2534, 'milkshake': 2535, 'mill': 2536, 'million': 2537, 'millionare': 2538, 'mind': 2539, 'minded': 2540, 'mindedly': 2541, 'minds': 2542, 'mine': 2543, 'ministers': 2544, 'minor': 2545, 'minute': 2546, 'minutes': 2547, 'miracle': 2548, 'miracles': 2549, 'mirror': 2550, 'mis': 2551, 'mischief': 2552, 'miscounted': 2553, 'misfeasance': 2554, 'mismatched': 2555, 'miss': 2556, 'missing': 2557, 'mission': 2558, 'mississippi': 2559, 'missoula': 2560, 'mistake': 2561, 'mister': 2562, 'mmmm': 2563, 'moan': 2564, 'moans': 2565, 'mock': 2566, 'mocking': 2567, 'modern': 2568, 'modest': 2569, 'modestly': 2570, 'moi': 2571, 'mom': 2572, 'moment': 2573, 'momentarily': 2574, 'moments': 2575, 'momentum': 2576, 'monday': 2577, 'money': 2578, 'monitor': 2579, 'monitors': 2580, 'monroe': 2581, 'monstrous': 2582, 'montana': 2583, 'month': 2584, 'months': 2585, 'mood': 2586, 'moon': 2587, 'mooncalves': 2588, 'moonless': 2589, 'moran': 2590, 'more': 2591, 'morgue': 2592, 'morning': 2593, 'morons': 2594, 'mortified': 2595, 'mosey': 2596, 'most': 2597, 'motel': 2598, 'mother': 2599, 'mothers': 2600, 'motioning': 2601, 'motions': 2602, 'motives': 2603, 'motorcycle': 2604, 'mountain': 2605, 'mounted': 2606, 'mountie': 2607, 'mounting': 2608, 'mourners': 2609, 'mouth': 2610, 'mouthful': 2611, 'mouthing': 2612, 'mouths': 2613, 'move': 2614, 'moved': 2615, 'movement': 2616, 'moves': 2617, 'movie': 2618, 'moving': 2619, 'mowing': 2620, 'mr.': 2621, 'mrs': 2622, 'mrs.': 2623, 'much': 2624, 'mug': 2625, 'multiple': 2626, 'murder': 2627, 'murdered': 2628, 'murderer': 2629, 'music': 2630, 'musical': 2631, 'must': 2632, 'muster': 2633, 'mute': 2634, 'muted': 2635, 'muttered': 2636, 'mutters': 2637, 'my': 2638, 'myself': 2639, 'n': 2640, \"n't\": 2641, 'na': 2642, 'nadine': 2643, \"nadine'd\": 2644, \"nadine'll\": 2645, 'nail': 2646, 'nails': 2647, 'name': 2648, 'named': 2649, 'names': 2650, 'naming': 2651, 'nancy': 2652, 'napkins': 2653, 'napping': 2654, 'naturally': 2655, 'nature': 2656, 'naturedly': 2657, 'near': 2658, 'nearby': 2659, 'nearly': 2660, 'nears': 2661, 'necessarily': 2662, 'necessary': 2663, 'neck': 2664, 'necklace': 2665, 'need': 2666, 'needing': 2667, 'needlepoint': 2668, 'needles': 2669, 'needs': 2670, 'negligee': 2671, 'negotiate': 2672, 'neither': 2673, 'nervously': 2674, 'nest': 2675, 'net': 2676, 'never': 2677, 'new': 2678, 'news': 2679, 'newspaper': 2680, 'next': 2681, 'nibbling': 2682, 'nice': 2683, 'nicely': 2684, 'niece': 2685, 'night': 2686, 'nightmare': 2687, 'nights': 2688, 'nine': 2689, 'ninth': 2690, 'no': 2691, 'nobody': 2692, 'nod': 2693, 'nods': 2694, 'noiseless': 2695, 'noises': 2696, 'nominate': 2697, 'non': 2698, 'none': 2699, 'nonsense': 2700, 'nonsmoking': 2701, 'noodle': 2702, 'noon': 2703, 'noose': 2704, 'norma': 2705, \"norma'll\": 2706, 'normal': 2707, 'north': 2708, 'northern': 2709, 'norweigans': 2710, 'nose': 2711, 'not': 2712, 'note': 2713, 'notebook': 2714, 'notes': 2715, 'nothing': 2716, 'nothings': 2717, 'notice': 2718, 'noticed': 2719, 'notices': 2720, 'noticing': 2721, 'nourishment': 2722, 'now': 2723, 'nowhere': 2724, 'numb': 2725, 'number': 2726, 'numbers': 2727, 'numbs': 2728, 'numerous': 2729, 'nun': 2730, 'nurse': 2731, 'nursing': 2732, 'nurturing': 2733, 'nuts': 2734, \"o'clock\": 2735, 'o.': 2736, 'objects': 2737, 'obligated': 2738, 'obliged': 2739, 'obscured': 2740, 'obscures': 2741, 'obsession': 2742, 'obsessively': 2743, 'obviously': 2744, 'occupied': 2745, 'occupies': 2746, 'odd': 2747, 'of': 2748, 'off': 2749, 'offend': 2750, 'offer': 2751, 'offering': 2752, 'offers': 2753, 'office': 2754, 'official': 2755, 'officiates': 2756, 'offscreen': 2757, 'often': 2758, 'oh': 2759, 'ok': 2760, 'okay': 2761, 'old': 2762, 'older': 2763, 'olive': 2764, 'omitted': 2765, 'ommited': 2766, 'on': 2767, 'once': 2768, 'one': 2769, 'ones': 2770, 'only': 2771, 'onto': 2772, 'open': 2773, 'opened': 2774, 'opens': 2775, 'opera': 2776, 'operate': 2777, 'operatic': 2778, 'operation': 2779, 'operator': 2780, 'opinion': 2781, 'opponent': 2782, 'opportunity': 2783, 'opposite': 2784, 'or': 2785, 'orals': 2786, 'orange': 2787, 'order': 2788, 'ordered': 2789, 'ordering': 2790, 'ordinary': 2791, 'organize': 2792, 'oriental': 2793, 'original': 2794, 'originating': 2795, 'orphans': 2796, 'orthopedic': 2797, 'other': 2798, 'others': 2799, 'otuside': 2800, 'ouch': 2801, 'ought': 2802, \"ought'a\": 2803, 'our': 2804, 'ours': 2805, 'out': 2806, 'outside': 2807, 'oven': 2808, 'over': 2809, 'overalls': 2810, 'overcome': 2811, 'overwhelmed': 2812, 'owe': 2813, 'owes': 2814, 'owl': 2815, 'owls': 2816, 'own': 2817, 'owned': 2818, 'owner': 2819, 'owns': 2820, 'ox': 2821, 'oxygen': 2822, 'p': 2823, 'p.e.': 2824, 'pace': 2825, 'pacing': 2826, 'package': 2827, 'packard': 2828, 'packards': 2829, 'packs': 2830, 'pact': 2831, 'page': 2832, 'pages': 2833, 'pain': 2834, 'pains': 2835, 'painted': 2836, 'pair': 2837, 'pal': 2838, 'pale': 2839, 'pales': 2840, 'palm': 2841, 'palmer': 2842, 'palms': 2843, 'pan': 2844, 'panic': 2845, 'pantry': 2846, 'paper': 2847, 'papers': 2848, 'paperwork': 2849, 'paralysis': 2850, 'parent': 2851, 'parenthood': 2852, 'parents': 2853, 'paris': 2854, 'park': 2855, 'parked': 2856, 'parking': 2857, 'parole': 2858, 'part': 2859, 'partially': 2860, 'participate': 2861, 'particular': 2862, 'partition': 2863, 'partner': 2864, 'paso': 2865, 'pass': 2866, 'passes': 2867, 'passing': 2868, 'passion': 2869, 'passionate': 2870, 'past': 2871, 'paste': 2872, 'patch': 2873, 'path': 2874, 'pathetic': 2875, 'patience': 2876, 'patient': 2877, 'patrol': 2878, 'pats': 2879, 'patterns': 2880, 'patting': 2881, 'pause': 2882, 'pauses': 2883, 'pausing': 2884, 'pawn': 2885, 'pay': 2886, 'paycheck': 2887, 'paying': 2888, 'peabrain': 2889, 'peaks': 2890, 'pearl': 2891, 'peasant': 2892, 'pecan': 2893, 'pecking': 2894, 'peek': 2895, 'peeks': 2896, 'peer': 2897, 'peering': 2898, 'peers': 2899, 'pen': 2900, 'penchant': 2901, 'pensive': 2902, 'people': 2903, 'pep': 2904, 'pepper': 2905, 'percent': 2906, 'perceptions': 2907, 'perched': 2908, 'percolator': 2909, 'perfect': 2910, 'perfection': 2911, 'perfectly': 2912, 'perform': 2913, 'performance': 2914, 'performed': 2915, 'perfume': 2916, 'perhaps': 2917, 'period': 2918, 'perish': 2919, 'perky': 2920, 'permission': 2921, 'perpetrator': 2922, 'perpetrators': 2923, 'personal': 2924, 'personally': 2925, 'personals': 2926, 'persuaded': 2927, 'pertinent': 2928, 'perturbed': 2929, 'perusal': 2930, 'pervades': 2931, 'perverse': 2932, 'pet': 2933, 'pete': 2934, 'petersburg': 2935, 'phantom': 2936, 'phantoms': 2937, 'phone': 2938, 'phonecall': 2939, 'photo': 2940, 'photograph': 2941, 'photographs': 2942, 'photos': 2943, 'phrase': 2944, 'physical': 2945, 'pick': 2946, 'picked': 2947, 'picking': 2948, 'pickled': 2949, 'picks': 2950, 'pickup': 2951, 'picnic': 2952, 'picture': 2953, 'pictures': 2954, 'pie': 2955, 'piece': 2956, 'pieced': 2957, 'pieces': 2958, 'pierce': 2959, 'pies': 2960, 'pigtails': 2961, 'pill': 2962, 'pillow': 2963, 'pimentos': 2964, 'pinches': 2965, 'pine': 2966, 'pining': 2967, 'pinocchio': 2968, 'piping': 2969, 'pistol': 2970, 'pitch': 2971, 'pittance': 2972, 'pivots': 2973, 'placard': 2974, 'placated': 2975, 'place': 2976, 'placed': 2977, 'places': 2978, 'placing': 2979, 'plain': 2980, 'plan': 2981, 'planning': 2982, 'plans': 2983, 'plants': 2984, 'plastic': 2985, 'plate': 2986, 'plates': 2987, 'play': 2988, 'player': 2989, 'playfully': 2990, 'playing': 2991, 'plays': 2992, 'plead': 2993, 'pleasant': 2994, 'pleasantly': 2995, 'please': 2996, 'pleased': 2997, 'pleasure': 2998, 'pleasures': 2999, 'pleated': 3000, 'pledge': 3001, 'pledged': 3002, 'plenty': 3003, 'pliable': 3004, 'plugged': 3005, 'plugs': 3006, 'plum': 3007, 'plus': 3008, 'pocket': 3009, 'pockets': 3010, 'pocquet': 3011, 'poem': 3012, 'point': 3013, 'pointed': 3014, 'pointing': 3015, 'points': 3016, 'police': 3017, 'policy': 3018, 'polishing': 3019, 'poloroid': 3020, 'pond': 3021, 'pondered': 3022, 'ponders': 3023, 'pony': 3024, 'ponytail': 3025, 'poodle': 3026, 'pool': 3027, 'poor': 3028, 'poorly': 3029, 'pops': 3030, 'portable': 3031, 'posing': 3032, 'position': 3033, 'positioned': 3034, 'positively': 3035, 'possible': 3036, 'post': 3037, 'postmortem': 3038, 'pot': 3039, 'potato': 3040, 'potatoes': 3041, 'pound': 3042, 'pounding': 3043, 'pouring': 3044, 'pours': 3045, 'pov': 3046, 'powder': 3047, 'power': 3048, 'powerful': 3049, 'powers': 3050, 'practical': 3051, 'practically': 3052, 'practice': 3053, 'pray': 3054, 'precious': 3055, 'precipitated': 3056, 'precipitously': 3057, 'predict': 3058, 'preempts': 3059, 'prefer': 3060, 'preliminaries': 3061, 'premises': 3062, 'preoccupation': 3063, 'preoccupied': 3064, 'prepares': 3065, 'preparing': 3066, 'prepatory': 3067, 'presence': 3068, 'present': 3069, 'presentation': 3070, 'preservation': 3071, 'pressure': 3072, 'prestigious': 3073, 'preston': 3074, 'pretends': 3075, 'pretty': 3076, 'prevail': 3077, 'prevarication': 3078, 'prevent': 3079, 'previous': 3080, 'previously': 3081, 'prey': 3082, 'price': 3083, 'priced': 3084, 'pride': 3085, 'prince': 3086, 'principal': 3087, 'print': 3088, 'priority': 3089, 'prison': 3090, 'private': 3091, 'privilege': 3092, 'probably': 3093, 'problem': 3094, 'problems': 3095, 'procedure': 3096, 'proceeding': 3097, 'proceeds': 3098, 'process': 3099, 'produces': 3100, 'profession': 3101, 'professional': 3102, 'professor': 3103, 'profit': 3104, 'program': 3105, 'progress': 3106, 'prom': 3107, 'promise': 3108, 'promised': 3109, 'proof': 3110, 'proper': 3111, 'property': 3112, 'propose': 3113, 'propped': 3114, 'propriety': 3115, 'prosecution': 3116, 'prosecutor': 3117, 'protect': 3118, 'protecting': 3119, 'protests': 3120, 'proud': 3121, 'proudly': 3122, 'prove': 3123, 'psychological': 3124, 'public': 3125, 'publisher': 3126, 'pudding': 3127, 'puffy': 3128, 'pulaski': 3129, 'pull': 3130, 'pulled': 3131, 'pulls': 3132, 'punch': 3133, 'punches': 3134, 'punishment': 3135, 'punk': 3136, 'puny': 3137, 'puppet': 3138, 'purpose': 3139, 'pursuading': 3140, 'pushed': 3141, 'pushes': 3142, 'pussycat': 3143, 'put': 3144, 'puts': 3145, 'putting': 3146, 'puzzle': 3147, 'puzzled': 3148, 'quality': 3149, 'quarters': 3150, 'quartet': 3151, 'queen': 3152, 'query': 3153, 'question': 3154, 'questioning': 3155, 'questions': 3156, 'quick': 3157, 'quickly': 3158, 'quiet': 3159, 'quieter': 3160, 'quietly': 3161, 'quilt': 3162, 'quit': 3163, 'quite': 3164, 'quivering': 3165, 'quoted': 3166, 'quoting': 3167, 'r': 3168, 'raccoons': 3169, 'racing': 3170, 'racket': 3171, 'radio': 3172, 'rage': 3173, 'raging': 3174, 'raises': 3175, 'raising': 3176, 'ramble': 3177, 'ran': 3178, 'rang': 3179, 'rap': 3180, 'rare': 3181, 'rarer': 3182, 'raspberry': 3183, 'rather': 3184, 'rattle': 3185, 'rattling': 3186, 're': 3187, 'reach': 3188, 'reached': 3189, 'reaches': 3190, 'reaching': 3191, 'react': 3192, 'reacting': 3193, 'reaction': 3194, 'reactions': 3195, 'reacts': 3196, 'read': 3197, 'reading': 3198, 'readout': 3199, 'reads': 3200, 'ready': 3201, 'real': 3202, 'realistically': 3203, 'reality': 3204, 'realize': 3205, 'realized': 3206, 'realizing': 3207, 'really': 3208, 'reappears': 3209, 'rear': 3210, 'reason': 3211, 'reasonably': 3212, 'reasons': 3213, 'rebellion': 3214, 'rebellious': 3215, 'rebuff': 3216, 'rec': 3217, 'recall': 3218, 'recalled': 3219, 'recapture': 3220, 'recedes': 3221, 'receive': 3222, 'received': 3223, 'receiver': 3224, 'recent': 3225, 'recently': 3226, 'reception': 3227, 'receptionist': 3228, 'reclines': 3229, 'recognizable': 3230, 'recognize': 3231, 'recommend': 3232, 'record': 3233, 'recorded': 3234, 'recorder': 3235, 'recounts': 3236, 'recover': 3237, 'recovered': 3238, 'recruited': 3239, 'red': 3240, 'reeked': 3241, 'reel': 3242, 'reference': 3243, 'referring': 3244, 'refers': 3245, 'reflected': 3246, 'reflection': 3247, 'reflective': 3248, 'regains': 3249, 'regardless': 3250, 'register': 3251, 'registers': 3252, 'regression': 3253, 'regret': 3254, 'regular': 3255, 'regularity': 3256, 'reins': 3257, 'rejoined': 3258, 'related': 3259, 'relation': 3260, 'relations': 3261, 'relationship': 3262, 'relatively': 3263, 'release': 3264, 'released': 3265, 'releases': 3266, 'relents': 3267, 'relevant': 3268, 'relieved': 3269, 'relish': 3270, 'reluctance': 3271, 'remain': 3272, 'remains': 3273, 'remember': 3274, 'remembering': 3275, 'remembers': 3276, 'remind': 3277, 'reminder': 3278, 'remote': 3279, 'remove': 3280, 'removed': 3281, 'removes': 3282, 'removing': 3283, 'renault': 3284, 'repeat': 3285, 'repeated': 3286, 'repeats': 3287, 'repetition': 3288, 'repetoire': 3289, 'replaced': 3290, 'replies': 3291, 'reply': 3292, 'report': 3293, 'reproving': 3294, 'requested': 3295, 'require': 3296, 'requires': 3297, 'requisite': 3298, 'rescue': 3299, 'rescuing': 3300, 'residue': 3301, 'resist': 3302, 'resists': 3303, 'resolve': 3304, 'respect': 3305, 'resplendent': 3306, 'respond': 3307, 'response': 3308, 'responsibile': 3309, 'rest': 3310, 'restaurant': 3311, 'resting': 3312, 'restorative': 3313, 'restored': 3314, 'restrain': 3315, 'restraints': 3316, 'result': 3317, 'resulting': 3318, 'results': 3319, 'resuming': 3320, 'resurrection': 3321, 'retail': 3322, 'retired': 3323, 'retrieves': 3324, 'return': 3325, 'returns': 3326, 'reunited': 3327, 'reveal': 3328, 'revealed': 3329, 'revealing': 3330, 'reveals': 3331, 'revenues': 3332, 'reversals': 3333, 'reverse': 3334, 'review': 3335, 'revolution': 3336, 'revulsion': 3337, 'reward': 3338, 'rhythmic': 3339, 'ri': 3340, 'rice': 3341, 'rich': 3342, 'richard': 3343, 'ride': 3344, 'ridiculous': 3345, 'riff': 3346, 'rifles': 3347, 'rig': 3348, 'right': 3349, 'rights': 3350, 'ring': 3351, 'rings': 3352, 'rip': 3353, 'ripped': 3354, 'ripple': 3355, 'rips': 3356, 'rise': 3357, 'rises': 3358, 'river': 3359, 'riveted': 3360, 'roadhouse': 3361, 'roaring': 3362, 'roast': 3363, 'roasted': 3364, 'robe': 3365, 'robert': 3366, 'robes': 3367, 'robin': 3368, 'rock': 3369, 'rockefeller': 3370, 'rocks': 3371, 'rod': 3372, 'rodney': 3373, 'roger': 3374, 'roll': 3375, 'rolling': 3376, 'rolls': 3377, 'romantic': 3378, 'ronette': 3379, 'ronnette': 3380, 'room': 3381, 'rooms': 3382, 'rooster': 3383, 'root': 3384, 'rose': 3385, 'rosenfield': 3386, 'rotates': 3387, 'roughed': 3388, 'roughing': 3389, 'roulette': 3390, 'round': 3391, 'rounds': 3392, 'route': 3393, 'routed': 3394, 'routine': 3395, 'routinely': 3396, 'rubber': 3397, 'rubbing': 3398, 'rubs': 3399, 'rude': 3400, 'rueful': 3401, 'rule': 3402, 'ruled': 3403, 'rules': 3404, 'rumble': 3405, 'run': 3406, 'runner': 3407, 'running': 3408, 'runs': 3409, 'rural': 3410, 'rush': 3411, 'rushes': 3412, 'rustic': 3413, 'rustles': 3414, 'sack': 3415, 'sacred': 3416, 'sad': 3417, 'sadly': 3418, 'safe': 3419, 'safety': 3420, 'said': 3421, 'sainthood': 3422, 'sake': 3423, 'salad': 3424, 'sale': 3425, 'salesperson': 3426, 'salt': 3427, 'salty': 3428, 'samantha': 3429, 'same': 3430, 'samples': 3431, 'samsonite': 3432, 'sand': 3433, 'sandpaper': 3434, 'sandwich': 3435, 'sandwiches': 3436, 'sandy': 3437, 'santa': 3438, 'sarah': 3439, 'sarcasm': 3440, 'sashays': 3441, 'sat': 3442, 'satisfactorily': 3443, 'satisfactory': 3444, 'satisfied': 3445, 'saturday': 3446, 'sauvignon': 3447, 'save': 3448, 'saved': 3449, 'saving': 3450, 'saw': 3451, 'sawmill': 3452, 'say': 3453, 'saying': 3454, 'says': 3455, 'scale': 3456, 'scalloped': 3457, 'scared': 3458, 'scares': 3459, 'scarf': 3460, 'scathing': 3461, 'scatters': 3462, 'scene': 3463, 'schmoes': 3464, 'school': 3465, 'schoolgirl': 3466, 'schoolwork': 3467, 'scientific': 3468, 'scotch': 3469, 'scotches': 3470, 'scout': 3471, 'scowls': 3472, 'scrambled': 3473, 'scrawl': 3474, 'scream': 3475, 'screaming': 3476, 'screams': 3477, 'screech': 3478, 'screeches': 3479, 'screen': 3480, 'scribbles': 3481, 'scribe': 3482, 'scrubbing': 3483, 'scrubs': 3484, 'scurries': 3485, 'seal': 3486, 'searched': 3487, 'searches': 3488, 'searching': 3489, 'seared': 3490, 'season': 3491, 'seat': 3492, 'seated': 3493, 'seats': 3494, 'seattle': 3495, 'sec': 3496, 'second': 3497, 'secrecy': 3498, 'secret': 3499, 'secretary': 3500, 'secretly': 3501, 'secrets': 3502, 'security': 3503, 'sedated': 3504, 'see': 3505, 'seeing': 3506, 'seeking': 3507, 'seem': 3508, 'seemed': 3509, 'seemingly': 3510, 'seems': 3511, 'seen': 3512, 'seepage': 3513, 'seeping': 3514, 'sees': 3515, 'seize': 3516, 'seizes': 3517, 'self': 3518, 'selfdestructive': 3519, 'sell': 3520, 'sells': 3521, 'semi': 3522, 'senate': 3523, 'send': 3524, 'senior': 3525, 'senor': 3526, 'sense': 3527, 'senses': 3528, 'sensibility': 3529, 'sensible': 3530, 'sensually': 3531, 'sent': 3532, 'sentimental': 3533, 'separate': 3534, 'septuagenarian': 3535, 'sergeant': 3536, 'series': 3537, 'serious': 3538, 'serve': 3539, 'service': 3540, 'serving': 3541, 'set': 3542, 'setback': 3543, 'sets': 3544, 'setting': 3545, 'settle': 3546, 'settles': 3547, 'settling': 3548, 'seven': 3549, 'seventy': 3550, 'several': 3551, 'severe': 3552, 'sex': 3553, 'sexual': 3554, 'sexy': 3555, 'shade': 3556, 'shadow': 3557, 'shadows': 3558, 'shadowy': 3559, 'shaft': 3560, 'shafts': 3561, 'shake': 3562, 'shakers': 3563, 'shakes': 3564, 'shakey': 3565, 'shaking': 3566, 'shall': 3567, 'shallow': 3568, 'shame': 3569, 'shape': 3570, 'share': 3571, 'shared': 3572, 'sharing': 3573, 'sharkskin': 3574, 'sharp': 3575, 'sharply': 3576, 'shaving': 3577, 'she': 3578, 'shed': 3579, 'sheer': 3580, 'sheet': 3581, 'shelly': 3582, 'shenanigans': 3583, 'sheriff': 3584, \"sherrif's\": 3585, 'shift': 3586, 'shifting': 3587, 'shifts': 3588, 'shin': 3589, 'shine': 3590, 'shiny': 3591, 'shirt': 3592, 'shirts': 3593, 'shock': 3594, 'shocked': 3595, 'shoebox': 3596, 'shoes': 3597, 'shoetops': 3598, 'shoot': 3599, 'shooting': 3600, 'shop': 3601, 'shopping': 3602, 'short': 3603, 'shorts': 3604, 'shot': 3605, 'should': 3606, 'shoulder': 3607, 'shout': 3608, 'shouting': 3609, 'shoves': 3610, 'show': 3611, 'showed': 3612, 'shower': 3613, 'showing': 3614, 'shriners': 3615, 'shrugs': 3616, 'shudder': 3617, 'shudders': 3618, 'shuffles': 3619, 'shut': 3620, 'shuts': 3621, 'shutting': 3622, 'shy': 3623, 'sicily': 3624, 'sickened': 3625, 'side': 3626, 'sidebenefit': 3627, 'sides': 3628, 'sifts': 3629, 'sigh': 3630, 'sighs': 3631, 'sight': 3632, 'sighted': 3633, 'sign': 3634, 'signal': 3635, 'signals': 3636, 'signed': 3637, 'significance': 3638, 'significant': 3639, 'signifying': 3640, 'signing': 3641, 'signs': 3642, 'silence': 3643, 'silences': 3644, 'silent': 3645, 'silently': 3646, 'silk': 3647, 'silver': 3648, 'silverware': 3649, 'similar': 3650, 'simple': 3651, 'simply': 3652, 'sin': 3653, 'since': 3654, 'sincerely': 3655, 'sing': 3656, 'singed': 3657, 'singing': 3658, 'single': 3659, 'sings': 3660, 'sink': 3661, 'sip': 3662, 'sipping': 3663, 'sips': 3664, 'sir': 3665, 'sit': 3666, 'sits': 3667, 'sitter': 3668, 'sitting': 3669, 'six': 3670, 'sixty': 3671, 'size': 3672, 'skeet': 3673, 'sketch': 3674, 'sketches': 3675, 'skills': 3676, 'skin': 3677, 'skips': 3678, 'skirt': 3679, 'skull': 3680, 'skunk': 3681, 'sky': 3682, 'slamming': 3683, 'slams': 3684, 'slap': 3685, 'slaps': 3686, 'slave': 3687, 'sleep': 3688, 'sleeping': 3689, 'sleepless': 3690, 'sleepy': 3691, 'sleeve': 3692, 'sleeved': 3693, 'sleight': 3694, 'slept': 3695, 'slice': 3696, 'slices': 3697, 'slides': 3698, 'sliding': 3699, 'slightly': 3700, 'slip': 3701, 'slips': 3702, 'slit': 3703, 'slow': 3704, 'slowly': 3705, 'slows': 3706, 'slugs': 3707, 'smack': 3708, 'small': 3709, 'smell': 3710, 'smile': 3711, 'smiled': 3712, 'smiles': 3713, 'smiley': 3714, 'smiling': 3715, 'smith': 3716, 'smoke': 3717, 'smokey': 3718, 'smoking': 3719, 'smoldering': 3720, 'smooch': 3721, 'smorgasbord': 3722, 'snake': 3723, 'snakes': 3724, 'snapping': 3725, 'snatch': 3726, 'sneaks': 3727, 'sneer': 3728, 'sneers': 3729, 'snicker': 3730, 'sniffles': 3731, 'sniffs': 3732, 'snow': 3733, 'snowman': 3734, 'snuck': 3735, 'snuffed': 3736, 'so': 3737, 'soap': 3738, 'social': 3739, 'society': 3740, 'sock': 3741, 'socked': 3742, 'socks': 3743, 'soda': 3744, 'sofa': 3745, 'soft': 3746, 'softly': 3747, 'soggy': 3748, 'soiled': 3749, 'solely': 3750, 'solemn': 3751, 'somber': 3752, 'some': 3753, 'somebody': 3754, 'somehow': 3755, 'someone': 3756, 'someplace': 3757, 'something': 3758, 'sometime': 3759, 'sometimes': 3760, 'somewhat': 3761, 'somewhere': 3762, 'son': 3763, 'song': 3764, 'soon': 3765, 'sooner': 3766, 'sore': 3767, 'sorry': 3768, 'sorta': 3769, 'sotto': 3770, 'soul': 3771, 'sound': 3772, 'sounds': 3773, 'sour': 3774, 'source': 3775, 'space': 3776, 'spade': 3777, 'spark': 3778, 'sparked': 3779, 'sparkling': 3780, 'sparkwood': 3781, 'speak': 3782, 'speaking': 3783, 'speaks': 3784, 'spears': 3785, 'special': 3786, 'specific': 3787, 'specifically': 3788, 'spectates': 3789, 'spectator': 3790, 'speed': 3791, 'spell': 3792, 'spend': 3793, 'spent': 3794, 'sperm': 3795, 'spills': 3796, 'spin': 3797, 'spine': 3798, 'spins': 3799, 'spirit': 3800, 'spite': 3801, 'spits': 3802, 'splits': 3803, 'spokane': 3804, 'spoke': 3805, 'spoken': 3806, 'spokes': 3807, 'sponges': 3808, 'spoon': 3809, 'spot': 3810, 'spread': 3811, 'squad': 3812, 'square': 3813, 'squared': 3814, 'squaw': 3815, 'squeezed': 3816, 'squeezes': 3817, 'squeezing': 3818, 'sshushes': 3819, 'st.': 3820, 'stab': 3821, 'stack': 3822, 'stacked': 3823, 'stag': 3824, 'stage': 3825, 'staircase': 3826, 'stairs': 3827, 'stairway': 3828, 'stairwell': 3829, 'stakes': 3830, 'stand': 3831, 'standards': 3832, 'standing': 3833, 'stands': 3834, 'star': 3835, 'stare': 3836, 'stares': 3837, 'staring': 3838, 'stars': 3839, 'start': 3840, 'started': 3841, 'starters': 3842, 'starting': 3843, 'starts': 3844, 'starved': 3845, 'stashes': 3846, 'state': 3847, 'statement': 3848, 'station': 3849, 'stay': 3850, 'stays': 3851, 'steady': 3852, 'steal': 3853, 'stealing': 3854, 'steaming': 3855, 'steel': 3856, 'steelhead': 3857, 'steeped': 3858, 'steeplejacks': 3859, 'stenciled': 3860, 'step': 3861, 'stepping': 3862, 'steps': 3863, 'stereo': 3864, 'sterile': 3865, 'stern': 3866, 'steve': 3867, 'stick': 3868, 'sticking': 3869, 'sticks': 3870, 'stiff': 3871, 'stifles': 3872, 'still': 3873, 'sting': 3874, 'stint': 3875, 'stirred': 3876, 'stocked': 3877, 'stocking': 3878, 'stockpiled': 3879, 'stoic': 3880, 'stolen': 3881, 'stomach': 3882, 'stood': 3883, 'stop': 3884, 'stopped': 3885, 'stops': 3886, 'store': 3887, 'stories': 3888, 'storm': 3889, 'storms': 3890, 'stormy': 3891, 'story': 3892, 'straight': 3893, 'straighten': 3894, 'straightening': 3895, 'straining': 3896, 'strange': 3897, 'strangely': 3898, 'stranger': 3899, 'stray': 3900, 'stream': 3901, 'streamers': 3902, 'streamline': 3903, 'street': 3904, 'streets': 3905, 'strength': 3906, 'stretches': 3907, 'stricken': 3908, 'strictly': 3909, 'strides': 3910, 'string': 3911, 'stripped': 3912, 'struck': 3913, 'structure': 3914, 'struggles': 3915, 'struggling': 3916, 'stuck': 3917, 'student': 3918, 'studies': 3919, 'studying': 3920, 'stuff': 3921, 'stump': 3922, 'stumped': 3923, 'stunned': 3924, 'stunt': 3925, 'style': 3926, 'subdued': 3927, 'subpeona': 3928, 'subsequently': 3929, 'subsided': 3930, 'substantial': 3931, 'suburbis': 3932, 'succeeding': 3933, 'success': 3934, 'successfully': 3935, 'such': 3936, 'sucks': 3937, 'suction': 3938, 'sudden': 3939, 'suddenly': 3940, 'sue': 3941, 'suffered': 3942, 'suffering': 3943, 'suggest': 3944, 'suggests': 3945, 'suit': 3946, 'suitcase': 3947, 'suite': 3948, 'suits': 3949, 'summer': 3950, 'summing': 3951, 'summons': 3952, 'sun': 3953, 'sunday': 3954, 'sundays': 3955, 'sundown': 3956, 'super': 3957, 'supercillious': 3958, 'superiority': 3959, 'supervision': 3960, 'supply': 3961, 'support': 3962, 'suppose': 3963, 'supposed': 3964, 'sure': 3965, 'surely': 3966, 'surmised': 3967, 'surprise': 3968, 'surprised': 3969, 'surrender': 3970, 'surrounded': 3971, 'surrounding': 3972, 'survival': 3973, 'suspect': 3974, 'suspected': 3975, 'suspension': 3976, 'suspicion': 3977, 'suspicions': 3978, 'suspicious': 3979, 'swallows': 3980, 'swatter': 3981, 'swaying': 3982, 'sways': 3983, 'swear': 3984, 'sweated': 3985, 'sweaters': 3986, 'sweatpants': 3987, 'sweet': 3988, 'sweetheart': 3989, 'sweetly': 3990, 'sweetness': 3991, 'swept': 3992, 'swift': 3993, 'swinging': 3994, 'swings': 3995, 'switchboard': 3996, 'switched': 3997, 'swizzle': 3998, 'swoops': 3999, 'sword': 4000, 'sympathetic': 4001, 'sympathy': 4002, 'system': 4003, 'systems': 4004, 't': 4005, 't.': 4006, 'ta': 4007, 'tab': 4008, 'table': 4009, 'tableau': 4010, 'tableclothes': 4011, 'tablecloths': 4012, 'tables': 4013, 'tacoma': 4014, 'tag': 4015, 'tail': 4016, 'take': 4017, 'taken': 4018, 'takes': 4019, 'taking': 4020, 'tale': 4021, 'talk': 4022, 'talked': 4023, 'talkin': 4024, 'talking': 4025, 'tall': 4026, 'tamps': 4027, 'tantrum': 4028, 'tape': 4029, 'tapping': 4030, 'taps': 4031, 'targeted': 4032, 'tasks': 4033, 'taste': 4034, 'tastes': 4035, 'taught': 4036, 'tax': 4037, 'tea': 4038, 'teach': 4039, 'teacher': 4040, 'teaching': 4041, 'teak': 4042, 'team': 4043, 'tear': 4044, 'tears': 4045, 'tearyeyed': 4046, 'teasing': 4047, 'teen': 4048, 'teenage': 4049, 'teenager': 4050, 'teeth': 4051, 'telephone': 4052, 'television': 4053, 'tell': 4054, 'telling': 4055, 'tells': 4056, 'tempest': 4057, 'tempestuous': 4058, 'tempted': 4059, 'ten': 4060, 'tended': 4061, 'tender': 4062, 'tending': 4063, 'tennis': 4064, 'tenses': 4065, 'tentative': 4066, 'terrible': 4067, 'terrified': 4068, 'test': 4069, 'testify': 4070, 'testifying': 4071, 'tests': 4072, 'than': 4073, 'thank': 4074, 'thankful': 4075, 'thanks': 4076, 'that': 4077, 'the': 4078, 'their': 4079, 'them': 4080, 'themed': 4081, 'themselves': 4082, 'then': 4083, 'therapy': 4084, 'there': 4085, 'these': 4086, 'they': 4087, \"they're\": 4088, 'thin': 4089, 'thing': 4090, 'things': 4091, \"things'll\": 4092, 'think': 4093, 'think-': 4094, 'thinking': 4095, 'thinks': 4096, 'thinly': 4097, 'third': 4098, 'thirty': 4099, 'this': 4100, \"this'll\": 4101, 'tho': 4102, 'thomas': 4103, 'thorson': 4104, 'those': 4105, 'though': 4106, 'thought': 4107, 'thoughts': 4108, 'thousand': 4109, 'thread': 4110, 'threads': 4111, 'threat': 4112, 'three': 4113, 'threw': 4114, 'thrilled': 4115, 'throat': 4116, 'through': 4117, 'throughout': 4118, 'throw': 4119, 'throwing': 4120, 'thrown': 4121, 'throws': 4122, 'thugs': 4123, 'thumbs': 4124, 'thursday': 4125, 'tibetan': 4126, 'ticket': 4127, 'tie': 4128, 'tied': 4129, 'ties': 4130, 'tight': 4131, 'tighten': 4132, 'tightens': 4133, 'tighter': 4134, 'tightly': 4135, 'tile': 4136, 'till': 4137, 'tilt': 4138, 'tilting': 4139, 'time': 4140, 'times': 4141, 'tin': 4142, 'tinsel': 4143, 'tiny': 4144, 'tip': 4145, 'tire': 4146, 'tired': 4147, 'tissue': 4148, 'tissues': 4149, 'title': 4150, 'to': 4151, 'toast': 4152, 'toasty': 4153, 'tobacco': 4154, 'today': 4155, 'toenails': 4156, 'toes': 4157, 'together': 4158, 'told': 4159, 'tolerant': 4160, 'tolls': 4161, 'tommy': 4162, 'tomorrow': 4163, 'tone': 4164, 'tongue': 4165, 'tonight': 4166, 'too': 4167, 'took': 4168, 'toot': 4169, 'toothbrush': 4170, 'top': 4171, 'torn': 4172, 'tortured': 4173, 'tosses': 4174, 'tossing': 4175, 'totally': 4176, 'tottering': 4177, 'touch': 4178, 'touched': 4179, 'touches': 4180, 'touching': 4181, 'tough': 4182, 'tougher': 4183, 'toward': 4184, 'towards': 4185, 'towel': 4186, 'towering': 4187, 'town': 4188, 'toxological': 4189, 'toy': 4190, 'trace': 4191, 'track': 4192, 'trade': 4193, 'tradition': 4194, 'traditional': 4195, 'traffic': 4196, 'trafficking': 4197, 'tragedies': 4198, 'tragedy': 4199, 'train': 4200, 'trained': 4201, 'transaction': 4202, 'translate': 4203, 'translator': 4204, 'trapped': 4205, 'trappings': 4206, 'trash': 4207, 'traveler': 4208, 'travels': 4209, 'tray': 4210, 'treacherous': 4211, 'tread': 4212, 'treat': 4213, 'treated': 4214, 'treating': 4215, 'tree': 4216, 'trees': 4217, 'tremayne': 4218, 'tremble': 4219, 'trembling': 4220, 'tremendously': 4221, 'tremond': 4222, 'trepidation': 4223, 'treymayne': 4224, 'tri': 4225, 'trial': 4226, 'trick': 4227, 'tried': 4228, 'tries': 4229, 'trigger': 4230, 'trilling': 4231, 'trip': 4232, 'trooper': 4233, 'troops': 4234, 'trouble': 4235, 'troubled': 4236, 'troubles': 4237, 'troublesome': 4238, 'troubling': 4239, 'trout': 4240, 'troy': 4241, 'truck': 4242, 'trucker': 4243, 'true': 4244, 'truly': 4245, 'truman': 4246, 'trump': 4247, 'trust': 4248, 'trusting': 4249, 'truth': 4250, 'try': 4251, 'trying': 4252, 'tryouts': 4253, 'tucked': 4254, 'tufted': 4255, 'tug': 4256, 'tugs': 4257, 'tumble': 4258, 'tumbling': 4259, 'tuna': 4260, 'tune': 4261, 'turmoil': 4262, 'turn': 4263, 'turned': 4264, 'turning': 4265, 'turnover': 4266, 'turns': 4267, 'tutor': 4268, 'tutored': 4269, 'tuxedo': 4270, 'tv': 4271, 'twelve': 4272, 'twenty': 4273, 'twice': 4274, 'twin': 4275, 'twinkle': 4276, 'twinkling': 4277, 'twist': 4278, 'twisted': 4279, 'twisting': 4280, 'twists': 4281, 'two': 4282, 'tying': 4283, 'typically': 4284, 'ugly': 4285, 'uh': 4286, 'uhm': 4287, 'un': 4288, 'unable': 4289, 'unadorned': 4290, 'unarmed': 4291, 'unbelievably': 4292, 'unbridled': 4293, 'unbuttoning': 4294, 'uncertain': 4295, 'uncle': 4296, 'uncoils': 4297, 'uncomplicated': 4298, 'uncomprehendingly': 4299, 'unconsciousness': 4300, 'undaunted': 4301, 'under': 4302, 'underground': 4303, 'underpants': 4304, 'understand': 4305, 'understanding': 4306, 'underwater': 4307, 'undeterred': 4308, 'unexplained': 4309, 'unfazed': 4310, 'unfocused': 4311, 'unforgettable': 4312, 'unfortunate': 4313, 'unhandcuffed': 4314, 'uniform': 4315, 'unimpressed': 4316, 'unlawful': 4317, 'unless': 4318, 'unlikely': 4319, 'unmanly': 4320, 'unopened': 4321, 'unopposed': 4322, 'unpredictable': 4323, 'unseen': 4324, 'unsigned': 4325, 'unspoiled': 4326, 'unsympathetic': 4327, 'unties': 4328, 'until': 4329, 'untroubled': 4330, 'unusually': 4331, 'up': 4332, 'uphold': 4333, 'upon': 4334, 'upper': 4335, 'ups': 4336, 'upset': 4337, 'upside': 4338, 'upstairs': 4339, 'upstream': 4340, 'urgency': 4341, 'urgent': 4342, 'urinate': 4343, 'urinating': 4344, 'us': 4345, 'usa': 4346, 'use': 4347, 'used': 4348, 'useful': 4349, 'uses': 4350, 'ushering': 4351, 'ushers': 4352, 'using': 4353, 'usual': 4354, 'usually': 4355, 'vacation': 4356, 'vague': 4357, 'vain': 4358, 'valet': 4359, 'value': 4360, 'values': 4361, 'vampires': 4362, 'van': 4363, 'vanilla': 4364, 'vanished': 4365, 'vanity': 4366, 'various': 4367, 'vast': 4368, 'vcr': 4369, 'vegetable': 4370, 'vehicle': 4371, 'ventilated': 4372, 'vertically': 4373, 'very': 4374, 'vest': 4375, 'vice': 4376, 'victim': 4377, 'vicuna': 4378, 'video': 4379, 'videotape': 4380, 'view': 4381, 'vikings': 4382, 'violate': 4383, 'violated': 4384, 'violently': 4385, 'virgin': 4386, 'virtues': 4387, 'visible': 4388, 'vision': 4389, 'visit': 4390, 'vivian': 4391, 'voce': 4392, 'voice': 4393, 'voices': 4394, 'volume': 4395, 'vulnerable': 4396, 'waders': 4397, 'wagon': 4398, 'waif': 4399, 'waist': 4400, 'wait': 4401, \"wait'll\": 4402, 'waited': 4403, 'waiter': 4404, 'waiting': 4405, 'waitress': 4406, 'waits': 4407, 'wake': 4408, 'waken': 4409, 'wakened': 4410, 'waldorf': 4411, 'walk': 4412, 'walked': 4413, 'walking': 4414, 'walks': 4415, 'wall': 4416, 'walls': 4417, 'wand': 4418, 'wanders': 4419, 'wanna': 4420, 'want': 4421, 'wanted': 4422, 'wants': 4423, 'warm': 4424, 'warming': 4425, 'warmly': 4426, 'warned': 4427, 'wary': 4428, 'was': 4429, 'was-(thinks': 4430, 'washer': 4431, 'waste': 4432, 'watch': 4433, 'watches': 4434, 'watching': 4435, 'water': 4436, 'waterfall': 4437, 'watson': 4438, 'waved': 4439, 'waver': 4440, 'waves': 4441, 'waving': 4442, 'waxing': 4443, 'way': 4444, 'ways': 4445, 'we': 4446, \"we're\": 4447, 'weak': 4448, 'weakens': 4449, 'wealthy': 4450, 'weapon': 4451, 'wear': 4452, 'wearing': 4453, 'wears': 4454, 'weary': 4455, 'weasel': 4456, 'weasels': 4457, 'weather': 4458, 'wedding': 4459, 'wednesday': 4460, 'week': 4461, 'weekend': 4462, 'weeks': 4463, 'weepy': 4464, 'weight': 4465, 'weird': 4466, 'welcome': 4467, 'well': 4468, 'wellkept': 4469, 'went': 4470, 'wentz': 4471, 'were': 4472, 'western': 4473, 'wet': 4474, 'whacked': 4475, 'what': 4476, 'whatever': 4477, 'wheel': 4478, 'wheelchair': 4479, 'wheeler': 4480, 'wheeler(more': 4481, 'wheels': 4482, 'when': 4483, 'whenever': 4484, 'where': 4485, 'which': 4486, 'while': 4487, 'whim': 4488, 'whipped': 4489, 'whirls': 4490, 'whirring': 4491, 'whisks': 4492, 'whisper': 4493, 'whispered': 4494, 'whispering': 4495, 'whispers': 4496, 'whistle': 4497, 'whistling': 4498, 'whit': 4499, 'white': 4500, 'whittled': 4501, 'whittling': 4502, 'whiz': 4503, 'who': 4504, 'whoever': 4505, 'whole': 4506, 'whom': 4507, 'whore': 4508, 'whose': 4509, 'why': 4510, 'wide': 4511, 'widen': 4512, 'widows': 4513, 'wife': 4514, 'wilderness': 4515, 'wildly': 4516, 'will': 4517, 'william': 4518, 'win': 4519, 'wince': 4520, 'wind': 4521, 'windom': 4522, 'window': 4523, 'wine': 4524, 'wings': 4525, 'winks': 4526, 'winning': 4527, 'wipe': 4528, 'wiped': 4529, 'wipes': 4530, 'wired': 4531, 'wiry': 4532, 'wisdom': 4533, 'wise': 4534, 'wish': 4535, 'wished': 4536, 'with': 4537, 'withdraws': 4538, 'within': 4539, 'without': 4540, 'witness': 4541, 'witnessing': 4542, 'wo': 4543, 'woe': 4544, 'woke': 4545, 'wolf': 4546, 'woman': 4547, 'women': 4548, 'wonder': 4549, 'wondering': 4550, 'wonders': 4551, 'wood': 4552, 'wooden': 4553, 'woods': 4554, 'word': 4555, 'words': 4556, 'work': 4557, 'worked': 4558, 'working': 4559, 'works': 4560, 'world': 4561, 'worried': 4562, 'worry': 4563, 'worse': 4564, 'worst': 4565, 'worth': 4566, 'would': 4567, 'wound': 4568, 'wounded': 4569, 'wounds': 4570, 'wow': 4571, 'wrap': 4572, 'wrapped': 4573, 'wraps': 4574, 'wrenches': 4575, 'wrestlers': 4576, 'wrestling': 4577, 'wrist': 4578, 'wrists': 4579, 'write': 4580, 'writes': 4581, 'written': 4582, 'wrong': 4583, 'wrote': 4584, 'ya': 4585, 'yard': 4586, 'yeah': 4587, 'year': 4588, 'yearbook': 4589, 'yearold': 4590, 'years': 4591, 'yellow': 4592, 'yelps': 4593, 'yes': 4594, 'yesterday': 4595, 'yesterday--': 4596, 'yet': 4597, 'yip': 4598, 'yoga': 4599, 'yokels': 4600, 'you': 4601, 'young': 4602, 'younger': 4603, 'your': 4604, 'yours': 4605, 'yourself': 4606, 'yowling': 4607, 'zone': 4608}\n"
          ],
          "name": "stdout"
        }
      ]
    },
    {
      "cell_type": "markdown",
      "metadata": {
        "id": "CriCBCC9WOuO"
      },
      "source": [
        "## create sequences\n",
        "Now, we have to create the input data for our LSTM. We create two lists:\n",
        " - **sequences**: this list will contain the sequences of words used to train the model,\n",
        " - **next_words**: this list will contain the next words for each sequences of the **sequences** list.\n",
        " \n",
        "In this exercice, we assume we will train the network with sequences of 30 words (seq_length = 30).\n",
        "\n",
        "So, to create the first sequence of words, we take the 30th first words in the **wordlist** list. The word 31 is the next word of this first sequence, and is added to the **next_words** list.\n",
        "\n",
        "Then we jump by a step of 1 (sequences_step = 1 in our example) in the list of words, to create the second sequence of words and retrieve the second \"next word\".\n",
        "\n",
        "We iterate this task until the end of the list of words."
      ]
    },
    {
      "cell_type": "code",
      "metadata": {
        "id": "sAecFMYhWOuP",
        "colab": {
          "base_uri": "https://localhost:8080/"
        },
        "outputId": "ca5a0681-c860-492e-b4c3-7046600d4f35"
      },
      "source": [
        "#create sequences\n",
        "sequences = []\n",
        "next_words = []\n",
        "for i in range(0, len(wordlist) - seq_length, sequences_step):\n",
        "    sequences.append(wordlist[i: i + seq_length])\n",
        "    next_words.append(wordlist[i + seq_length])\n",
        "\n",
        "print('nb sequences:', len(sequences))"
      ],
      "execution_count": 13,
      "outputs": [
        {
          "output_type": "stream",
          "text": [
            "nb sequences: 41969\n"
          ],
          "name": "stdout"
        }
      ]
    },
    {
      "cell_type": "markdown",
      "metadata": {
        "id": "3ZZMPiXqWOuQ"
      },
      "source": [
        "When we iterate over the whole list of words, we create 172104 sequences of words, and retrieve, for each of them, the next word to be predicted.\n",
        "\n",
        "However, these lists cannot be used \"as is\". We have to transform them in order to ingest them in the LSTM. Text will not be understood by neural net, we have to use digits.\n",
        "However, we cannot only map a words to its index in the vocabulary, as it does not represent intrasinqly the word. It is better to reorganize a sequence of words as a matrix of booleans.\n",
        "\n",
        "So, we create the matrix X and y :\n",
        " - X : the matrix of the following dimensions:\n",
        "     - number of sequences,\n",
        "     - number of words in sequences,\n",
        "     - number of words in the vocabulary.\n",
        " - y : the matrix of the following dimensions:\n",
        "     - number of sequences,\n",
        "     - number of words in the vocabulary.\n",
        " \n",
        "For each word, we retrieve its index in the vocabulary, and we set to 1 its position in the matrix."
      ]
    },
    {
      "cell_type": "code",
      "metadata": {
        "id": "jB6Js0cAWOuR",
        "colab": {
          "base_uri": "https://localhost:8080/"
        },
        "outputId": "821cb066-1269-4f47-8149-9d3a482c7d01"
      },
      "source": [
        "X = np.zeros((len(sequences), seq_length, vocab_size), dtype=np.bool)\n",
        "y = np.zeros((len(sequences), vocab_size), dtype=np.bool)\n",
        "for i, sentence in enumerate(sequences):\n",
        "    for t, word in enumerate(sentence):\n",
        "        X[i, t, vocab[word]] = 1\n",
        "    y[i, vocab[next_words[i]]] = 1\n",
        "\n",
        "print(np.shape(X))"
      ],
      "execution_count": 14,
      "outputs": [
        {
          "output_type": "stream",
          "text": [
            "(41969, 35, 4609)\n"
          ],
          "name": "stdout"
        }
      ]
    },
    {
      "cell_type": "markdown",
      "metadata": {
        "id": "f9kAzHF1WOuR"
      },
      "source": [
        "# Build Model"
      ]
    },
    {
      "cell_type": "markdown",
      "metadata": {
        "id": "UaYn6zl3WOuS"
      },
      "source": [
        "Now, here come the fun part. The creation of the neural network.\n",
        "As you will see, I am using Keras which provide very good abstraction to design an architecture.\n",
        "\n",
        "In this example, I create the following neural network:\n",
        " - bidirectional LSTM,\n",
        " - with size of 256 and using RELU as activation,\n",
        " - then a dropout layer of 0,6 (it's pretty high, but necesseray to avoid quick divergence)\n",
        " \n",
        "\n",
        "The net should provide me a probability for each word of the vocabulary to be the next one after a given sentence. So I end it with:\n",
        "\n",
        " - a simple dense layer of the size of the vocabulary,\n",
        " - a softmax activation.\n",
        " \n",
        "I use ADAM as otpimizer and the loss calculation is done on the categorical crossentropy.\n",
        "\n",
        "Here is the function to build the network:"
      ]
    },
    {
      "cell_type": "code",
      "metadata": {
        "collapsed": true,
        "id": "_yzdAy6vWOuS"
      },
      "source": [
        "def bidirectional_lstm_model(seq_length, vocab_size, rnn_size, batch_size, learning_rate):\n",
        "    print('Build LSTM model.')\n",
        "    model = Sequential()\n",
        "    #model.add(Bidirectional(LSTM(1024, activation=\"tanh\", recurrent_activation = \"sigmoid\",return_sequences=True, recurrent_dropout = 0, use_bias=True,unroll= False),input_shape=(seq_length, vocab_size)))\n",
        "    model.add(Bidirectional(LSTM(rnn_size, activation=\"tanh\", recurrent_activation = \"sigmoid\", recurrent_dropout = 0, use_bias=True,unroll= False),input_shape=(seq_length, vocab_size)))\n",
        "    model.add(Dropout(0.6))\n",
        "    model.add(Dense(vocab_size))\n",
        "    model.add(Activation('softmax'))\n",
        "    \n",
        "    optimizer = Adam(learning_rate=learning_rate)\n",
        "    callbacks=[EarlyStopping(patience=2, monitor='val_loss')]\n",
        "    model.compile(loss='categorical_crossentropy', optimizer=optimizer, metrics=[categorical_accuracy])\n",
        "    return model"
      ],
      "execution_count": 15,
      "outputs": []
    },
    {
      "cell_type": "code",
      "metadata": {
        "collapsed": true,
        "id": "iUluxwv5WOuT"
      },
      "source": [
        "# #Hiper-parametros\n",
        "\n",
        "# rnn_size = 256 # size of RNN\n",
        "# batch_size = 32 # minibatch size\n",
        "# seq_length = seq_length # sequence length\n",
        "# num_epochs = 3 # number of epochs\n",
        "# learning_rate = 0.001 #learning rate\n",
        "# sequences_step = 1 #step to create sequences"
      ],
      "execution_count": 16,
      "outputs": []
    },
    {
      "cell_type": "code",
      "metadata": {
        "id": "DpxNZxQeWOuT"
      },
      "source": [
        "# md = bidirectional_lstm_model(seq_length, vocab_size, rnn_size, batch_size, learning_rate)\n",
        "# print(md.summary())"
      ],
      "execution_count": 17,
      "outputs": []
    },
    {
      "cell_type": "markdown",
      "metadata": {
        "id": "blH8DiXZWOuT"
      },
      "source": [
        "If a print the summary of this model, you can see it has close to 61 millions of trainable parameters. It is huge, and the compute will take some time to complete."
      ]
    },
    {
      "cell_type": "markdown",
      "metadata": {
        "id": "_AFdvB03WOuU"
      },
      "source": [
        "## train data"
      ]
    },
    {
      "cell_type": "markdown",
      "metadata": {
        "id": "FsALVBmdWOuU"
      },
      "source": [
        "Enough speech, we train the model now. We shuffle the training set and extract 10% of it as validation sample. We simply run :"
      ]
    },
    {
      "cell_type": "code",
      "metadata": {
        "scrolled": true,
        "id": "vql6vZJQWOuU"
      },
      "source": [
        "def fit_model(num_epochs, batch):\n",
        "  #fit the model\n",
        "  callbacks=[EarlyStopping(patience=4, monitor='val_loss'),\n",
        "            ModelCheckpoint(filepath=save_dir + \"/\" + 'my_model_gen_sentences_lstm.{epoch:02d}-{val_loss:.2f}.hdf5',\\\n",
        "                            monitor='val_loss', verbose=0, mode='auto', period=2)]\n",
        "\n",
        "  history = md.fit(X, y,\n",
        "                  batch_size=batch,\n",
        "                  shuffle=True,\n",
        "                  epochs=num_epochs,\n",
        "                  callbacks=[callbacks],\n",
        "                  validation_split=0.1)\n",
        "\n",
        "  #save the model\n",
        "  md.save(save_dir + \"/\" + 'my_model_gen_sentences_lstm.final.hdf5')\n",
        "  return history"
      ],
      "execution_count": 18,
      "outputs": []
    },
    {
      "cell_type": "markdown",
      "metadata": {
        "id": "do6n9-T3WOuV"
      },
      "source": [
        "# Generate phrase"
      ]
    },
    {
      "cell_type": "markdown",
      "metadata": {
        "id": "e6OyIAnxWOuW"
      },
      "source": [
        "Great !\n",
        "We have now trained a model to predict the next word of a given sequence of words. In order to generate text, the task is pretty simple:\n",
        "\n",
        " - we define a \"seed\" sequence of 30 words (30 is the number of words required by the neural net for the sequences),\n",
        " - we ask the neural net to predict word number 31,\n",
        " - then we update the sequence by moving words by a step of 1, adding words number 31 at its end,\n",
        " - we ask the neural net to predict word number 32,\n",
        " - etc. For as long as we want.\n",
        " \n",
        "Doing this, we generate phrases, word by word."
      ]
    },
    {
      "cell_type": "code",
      "metadata": {
        "id": "LVht5nitWOuW"
      },
      "source": [
        "def load_vocabulary():\n",
        "  #load vocabulary\n",
        "  print(\"loading vocabulary...\")\n",
        "  vocab_file = os.path.join(save_dir, \"words_vocab.pkl\")\n",
        "\n",
        "  with open(os.path.join(save_dir, 'words_vocab.pkl'), 'rb') as f:\n",
        "          words, vocab, vocabulary_inv = cPickle.load(f)\n",
        "\n",
        "  vocab_size = len(words)\n",
        "  return vocab_size"
      ],
      "execution_count": 19,
      "outputs": []
    },
    {
      "cell_type": "code",
      "metadata": {
        "id": "_uTwG2VeWOuW"
      },
      "source": [
        "def load_the_model():\n",
        "  # load the model\n",
        "  print(\"loading model...\")\n",
        "  model = load_model(save_dir + \"/\" + 'my_model_gen_sentences_lstm.final.hdf5')\n",
        "  return model"
      ],
      "execution_count": 20,
      "outputs": []
    },
    {
      "cell_type": "markdown",
      "metadata": {
        "id": "cUc3XgxPWOuX"
      },
      "source": [
        "To improve the word generation, and tune a bit the prediction, we introduce a specific function to pick-up words.\n",
        "\n",
        "We will not take the words with the highest prediction (or the generation of text will be boring), but would like to insert some uncertainties, and let the solution sometime pick-up words with less good prediction.\n",
        "\n",
        "That is the purpose of the function **sample**, that will draw radomly a word from the vocabulary.\n",
        "\n",
        "The probabilty for a word to be drawn will depends directly on its probability to be the next word. In order to tune this probability, we introduce a \"temperature\" to smooth or sharpen its value."
      ]
    },
    {
      "cell_type": "code",
      "metadata": {
        "collapsed": true,
        "id": "Npi--Zf6WOuY"
      },
      "source": [
        "def sample(preds, temperature=1.0):\n",
        "    # helper function to sample an index from a probability array\n",
        "    preds = np.asarray(preds).astype('float64')\n",
        "    preds = np.log(preds) / temperature\n",
        "    exp_preds = np.exp(preds)\n",
        "    preds = exp_preds / np.sum(exp_preds)\n",
        "    probas = np.random.multinomial(1, preds, 1)\n",
        "    return np.argmax(probas)"
      ],
      "execution_count": 21,
      "outputs": []
    },
    {
      "cell_type": "code",
      "metadata": {
        "id": "6qHC-i-HWOuY"
      },
      "source": [
        "#initiate sentences\n",
        "def initiate_sentences(sentence, generated):\n",
        "  seed_sentences = 'but the true test of any hotel , as you know , is that morning cup of coffee . '\n",
        "  # generated = ''\n",
        "  # sentence = []\n",
        "  for i in range (seq_length):\n",
        "      sentence.append(\"a\")\n",
        "\n",
        "  seed = seed_sentences.split()\n",
        "\n",
        "  for i in range(len(seed)):\n",
        "      sentence[seq_length-i-1]=seed[len(seed)-i-1]\n",
        "\n",
        "  generated += ' '.join(sentence)\n",
        "  #print('Generating text with the following seed: \"' + ' '.join(sentence) + '\"')\n",
        "  return sentence, generated"
      ],
      "execution_count": 22,
      "outputs": []
    },
    {
      "cell_type": "code",
      "metadata": {
        "id": "W2j6_mxuWOuZ"
      },
      "source": [
        "def generate_text(sentence, generated):\n",
        "  words_number = 500\n",
        "  #generate the text\n",
        "  for i in range(words_number):\n",
        "      #create the vector\n",
        "      x = np.zeros((1, seq_length, vocab_size))\n",
        "      for t, word in enumerate(sentence):\n",
        "          x[0, t, vocab[word]] = 1.\n",
        "      #print(x.shape)\n",
        "\n",
        "      #calculate next word\n",
        "      preds = model.predict(x, verbose=0)[0]\n",
        "      next_index = sample(preds, 0.34)\n",
        "      next_word = vocabulary_inv[next_index]\n",
        "\n",
        "      #add the next word to the text\n",
        "      generated += \" \" + next_word\n",
        "      # shift the sentence by one, and and the next word at its end\n",
        "      sentence = sentence[1:] + [next_word]\n",
        "\n",
        "  #print(generated)\n",
        "  return sentence, generated\n"
      ],
      "execution_count": 23,
      "outputs": []
    },
    {
      "cell_type": "code",
      "metadata": {
        "id": "gOyPBlQwqS8-"
      },
      "source": [
        "def post_process(generated):\n",
        "  generated = generated.replace(\" .\", \".\\n\")\n",
        "  generated = generated.replace(\" )\", \")\")\n",
        "  generated = generated.replace(\"( \", \"(\")\n",
        "  generated = generated.replace(\" '\", \"'\")\n",
        "  generated = generated.replace(\" , \", \", \")\n",
        "  generated = generated.replace(\" : \", \": \")\n",
        "  generated = generated.replace(\" ? \", \"? \")\n",
        "  generated = generated.replace(\"did n't\", \"didn't\")\n",
        "  generated = generated.replace(\"should n't\", \"shouldn't\")\n",
        "  generated = generated.replace(\"do n't\", \"don't\")\n",
        "  generated = generated.replace(\"do esn't\", \"doesn't\")\n",
        "  generated = generated.replace(\"could n't\", \"couldn't\")\n",
        "  generated = generated.replace(\"gon na\", \"gonna\")\n",
        "  generated = generated.replace(\"got ta\", \"gotta\")\n",
        "  generated = generated.replace(\"was n't\", \"wasn't\")\n",
        "\n",
        "  print(generated)\n",
        "  return generated"
      ],
      "execution_count": 24,
      "outputs": []
    },
    {
      "cell_type": "code",
      "metadata": {
        "id": "JL5YFHqgM4pe"
      },
      "source": [
        "def save_metrics(rnn_size, batch_size, seq_length, num_epochs, learning_rate, sequences_step, history, generated, md):\n",
        "  # Stream the metrics to a file in JSON format.\n",
        "  json_log = open(save_dir + \"/\" +'log' + '_R' + str(rnn_size) + '_B' + str(batch_size) + '_L' + str(learning_rate) + '.json', mode='wt', buffering=1)\n",
        "  json_log.write(\n",
        "          json.dumps({'rnn_size': rnn_size, \n",
        "                      'batch_size': batch_size,\n",
        "                      'seq_length': seq_length, \n",
        "                      'num_epochs': num_epochs, \n",
        "                      'learning_rate': learning_rate, \n",
        "                      'sequences_step': sequences_step, \n",
        "\n",
        "                      'history': history.history,\n",
        "\n",
        "                      'predicted_text': generated\n",
        "          })\n",
        "  )\n",
        "  json_log.close()\n",
        "\n",
        "  # Open the file\n",
        "  with open(save_dir + \"/\" +'model_summary' + '_R' + str(rnn_size) + '_B' + str(batch_size) + '_L' + str(learning_rate) + '.txt', mode='w') as fh:\n",
        "      # Pass the file handle in as a lambda function to make it callable\n",
        "      model.summary(line_length=80,print_fn=lambda x: fh.write(x + '\\n')) "
      ],
      "execution_count": 25,
      "outputs": []
    },
    {
      "cell_type": "markdown",
      "metadata": {
        "id": "RQVj9yv8UoOC"
      },
      "source": [
        "Combinaciones"
      ]
    },
    {
      "cell_type": "code",
      "metadata": {
        "id": "qdeYI3Zr_HUs"
      },
      "source": [
        "#Hiper-parametros\n",
        "rnn_size = [256, 512, 1024] # size of RNN\n",
        "batch_size = [32, 64] # minibatch size\n",
        "\n",
        "seq_length = seq_length # sequence length\n",
        "num_epochs = 50 # number of epochs\n",
        "learning_rate = 0.001 #learning rate\n",
        "sequences_step = 1 #step to create sequences"
      ],
      "execution_count": 26,
      "outputs": []
    },
    {
      "cell_type": "code",
      "metadata": {
        "id": "L_WfnULTUnb2",
        "colab": {
          "base_uri": "https://localhost:8080/"
        },
        "outputId": "ab847f88-3868-4a8c-975b-e6f00b9affaf"
      },
      "source": [
        "for rnn in rnn_size:\n",
        "   for batch in batch_size:\n",
        "    md = bidirectional_lstm_model(seq_length, vocab_size, rnn, batch, learning_rate)\n",
        "    print(md.summary())\n",
        "    print('RNN Size= ' + str(rnn), ' Batch Size= ' + str(batch), ' Learning Rate= ' + str(learning_rate))\n",
        "    history = fit_model(num_epochs, batch)\n",
        "    #load_vocabulary()\n",
        "    model = load_the_model()\n",
        "    generated = ''\n",
        "    sentence = []\n",
        "    sentence, generated = initiate_sentences(sentence, generated)\n",
        "    sentence, generated = generate_text(sentence, generated)\n",
        "    generated = post_process(generated)\n",
        "    save_metrics(rnn, batch, seq_length, num_epochs, learning_rate, sequences_step, history, generated, md) "
      ],
      "execution_count": 27,
      "outputs": [
        {
          "output_type": "stream",
          "text": [
            "Build LSTM model.\n",
            "Model: \"sequential\"\n",
            "_________________________________________________________________\n",
            "Layer (type)                 Output Shape              Param #   \n",
            "=================================================================\n",
            "bidirectional (Bidirectional (None, 512)               9965568   \n",
            "_________________________________________________________________\n",
            "dropout (Dropout)            (None, 512)               0         \n",
            "_________________________________________________________________\n",
            "dense (Dense)                (None, 4609)              2364417   \n",
            "_________________________________________________________________\n",
            "activation (Activation)      (None, 4609)              0         \n",
            "=================================================================\n",
            "Total params: 12,329,985\n",
            "Trainable params: 12,329,985\n",
            "Non-trainable params: 0\n",
            "_________________________________________________________________\n",
            "None\n",
            "RNN Size= 256  Batch Size= 32  Learning Rate= 0.001\n",
            "WARNING:tensorflow:`period` argument is deprecated. Please use `save_freq` to specify the frequency in number of batches seen.\n",
            "Epoch 1/50\n",
            "1181/1181 [==============================] - 59s 30ms/step - loss: 6.5274 - categorical_accuracy: 0.0745 - val_loss: 6.0126 - val_categorical_accuracy: 0.0877\n",
            "Epoch 2/50\n",
            "1181/1181 [==============================] - 34s 28ms/step - loss: 5.9489 - categorical_accuracy: 0.0850 - val_loss: 5.6537 - val_categorical_accuracy: 0.1346\n",
            "Epoch 3/50\n",
            "1181/1181 [==============================] - 34s 28ms/step - loss: 5.4505 - categorical_accuracy: 0.1409 - val_loss: 5.4657 - val_categorical_accuracy: 0.1620\n",
            "Epoch 4/50\n",
            "1181/1181 [==============================] - 34s 29ms/step - loss: 5.0667 - categorical_accuracy: 0.1705 - val_loss: 5.3953 - val_categorical_accuracy: 0.1770\n",
            "Epoch 5/50\n",
            "1181/1181 [==============================] - 34s 29ms/step - loss: 4.6944 - categorical_accuracy: 0.2001 - val_loss: 5.3949 - val_categorical_accuracy: 0.1780\n",
            "Epoch 6/50\n",
            "1181/1181 [==============================] - 34s 29ms/step - loss: 4.2899 - categorical_accuracy: 0.2349 - val_loss: 5.4309 - val_categorical_accuracy: 0.1761\n",
            "Epoch 7/50\n",
            "1181/1181 [==============================] - 34s 29ms/step - loss: 3.9191 - categorical_accuracy: 0.2776 - val_loss: 5.4682 - val_categorical_accuracy: 0.1787\n",
            "Epoch 8/50\n",
            "1181/1181 [==============================] - 34s 29ms/step - loss: 3.4974 - categorical_accuracy: 0.3278 - val_loss: 5.5706 - val_categorical_accuracy: 0.1675\n",
            "Epoch 9/50\n",
            "1181/1181 [==============================] - 34s 29ms/step - loss: 3.1103 - categorical_accuracy: 0.3780 - val_loss: 5.6602 - val_categorical_accuracy: 0.1561\n",
            "loading model...\n",
            "a a a a a a a a a a a a a a a a but the true test of any hotel, as you know, is that morning cup of coffee.\n",
            " he had a moment.\n",
            " jerry i am i want to get her again.\n",
            " but it's dead.\n",
            " truman (motioning to her), when you're the best of my life.\n",
            " i'm not sure what i want to be to you're got to make the cab.\n",
            " he does n't have to the same more than you.\n",
            " the man i've been a chance to the woods - in a second.\n",
            " we're a weeks of my mind.\n",
            " it's not to the mountie, i found in the woods.\n",
            " and i'll get over i'm going to get a money.\n",
            " i'll be my life, you're just that's good.\n",
            " and they're in the world, no.\n",
            " the man who's not a classic of it's in the darkness.\n",
            " he's been thinking up, up, and you.\n",
            ".. (2) shelly no, i'm going to you, what he's not to you.\n",
            " he's a baguette we've been on it.\n",
            " we're going to get him in the washer, in a few man.\n",
            " we're not moving you.\n",
            " he starts up, and the door, and pulls out the door, and his hand, the land of food.\n",
            " we're going to get the wind of the washer.\n",
            " (the kitchen) the last time with us, no.\n",
            " (2) cooper ('s)) (taking the mountie) i've been thinking a night of the roadhouse, and the one of the fbi.\n",
            " the nurse goes down the phone.\n",
            " cut to: ext.\n",
            " sheriff\n",
            "Build LSTM model.\n",
            "Model: \"sequential_1\"\n",
            "_________________________________________________________________\n",
            "Layer (type)                 Output Shape              Param #   \n",
            "=================================================================\n",
            "bidirectional_1 (Bidirection (None, 1024)              20979712  \n",
            "_________________________________________________________________\n",
            "dropout_1 (Dropout)          (None, 1024)              0         \n",
            "_________________________________________________________________\n",
            "dense_1 (Dense)              (None, 4609)              4724225   \n",
            "_________________________________________________________________\n",
            "activation_1 (Activation)    (None, 4609)              0         \n",
            "=================================================================\n",
            "Total params: 25,703,937\n",
            "Trainable params: 25,703,937\n",
            "Non-trainable params: 0\n",
            "_________________________________________________________________\n",
            "None\n",
            "RNN Size= 512  Batch Size= 32  Learning Rate= 0.001\n",
            "WARNING:tensorflow:`period` argument is deprecated. Please use `save_freq` to specify the frequency in number of batches seen.\n",
            "Epoch 1/50\n",
            "1181/1181 [==============================] - 69s 56ms/step - loss: 6.5568 - categorical_accuracy: 0.0700 - val_loss: 6.0856 - val_categorical_accuracy: 0.0877\n",
            "Epoch 2/50\n",
            "1181/1181 [==============================] - 64s 54ms/step - loss: 6.1277 - categorical_accuracy: 0.0800 - val_loss: 5.8930 - val_categorical_accuracy: 0.0970\n",
            "Epoch 3/50\n",
            "1181/1181 [==============================] - 64s 55ms/step - loss: 5.6500 - categorical_accuracy: 0.1113 - val_loss: 5.5943 - val_categorical_accuracy: 0.1477\n",
            "Epoch 4/50\n",
            "1181/1181 [==============================] - 65s 55ms/step - loss: 5.1677 - categorical_accuracy: 0.1627 - val_loss: 5.4402 - val_categorical_accuracy: 0.1563\n",
            "Epoch 5/50\n",
            "1181/1181 [==============================] - 65s 55ms/step - loss: 4.7477 - categorical_accuracy: 0.1972 - val_loss: 5.3876 - val_categorical_accuracy: 0.1673\n",
            "Epoch 6/50\n",
            "1181/1181 [==============================] - 65s 55ms/step - loss: 4.3294 - categorical_accuracy: 0.2365 - val_loss: 5.4621 - val_categorical_accuracy: 0.1716\n",
            "Epoch 7/50\n",
            "1181/1181 [==============================] - 66s 56ms/step - loss: 3.8374 - categorical_accuracy: 0.2904 - val_loss: 5.4720 - val_categorical_accuracy: 0.1749\n",
            "Epoch 8/50\n",
            "1181/1181 [==============================] - 66s 56ms/step - loss: 3.2593 - categorical_accuracy: 0.3589 - val_loss: 5.6864 - val_categorical_accuracy: 0.1594\n",
            "Epoch 9/50\n",
            "1181/1181 [==============================] - 66s 56ms/step - loss: 2.6153 - categorical_accuracy: 0.4628 - val_loss: 5.8823 - val_categorical_accuracy: 0.1565\n",
            "loading model...\n",
            "a a a a a a a a a a a a a a a a but the true test of any hotel, as you know, is that morning cup of coffee.\n",
            " jerry (deadpan) i'm sorry.\n",
            " i'm sorry.\n",
            " leland's voice here, everything.\n",
            " cut to: int.\n",
            " sheriff's station house - day cut to: establish.\n",
            " cut to: int.\n",
            " sheriff's office's - day cut to: int.\n",
            " sheriff's office - day cut to: int.\n",
            " sheriff's station house - day cut to: close on the phone.\n",
            " cooper opens the door, and a little man who's voice? cooper, i don't know what's a little? bobby (beat) i'm trying to tell you you don't know it's dead.\n",
            " i don't know what i'm going to do you want to get out of the roadhouse? truman i don't know.\n",
            " i don't know it.\n",
            " i'm sorry.\n",
            " bobby i don't know i'm not.\n",
            " i've got a meeting.\n",
            " the one of the counter.\n",
            " josie and i'm going to do.\n",
            " i want to be int.\n",
            " sheriff's station area - day cut to: establish.\n",
            " cut to: int.\n",
            " sheriff's station house - day josie is a man.\n",
            " he walks out.\n",
            " he walks out in a corner and deputy andy.\n",
            " he's a minute.\n",
            " and i've got a lot of bobby.\n",
            ".. and it's the door.\n",
            " (2) cooper (2) he let's get out of the kitchen.\n",
            " i'm so sure i don't want to be my life.\n",
            " hank (to the same) this is you have to be my mind.\n",
            " (beat) josie.\n",
            ".. i'm going\n",
            "Build LSTM model.\n",
            "Model: \"sequential_2\"\n",
            "_________________________________________________________________\n",
            "Layer (type)                 Output Shape              Param #   \n",
            "=================================================================\n",
            "bidirectional_2 (Bidirection (None, 2048)              46153728  \n",
            "_________________________________________________________________\n",
            "dropout_2 (Dropout)          (None, 2048)              0         \n",
            "_________________________________________________________________\n",
            "dense_2 (Dense)              (None, 4609)              9443841   \n",
            "_________________________________________________________________\n",
            "activation_2 (Activation)    (None, 4609)              0         \n",
            "=================================================================\n",
            "Total params: 55,597,569\n",
            "Trainable params: 55,597,569\n",
            "Non-trainable params: 0\n",
            "_________________________________________________________________\n",
            "None\n",
            "RNN Size= 1024  Batch Size= 32  Learning Rate= 0.001\n",
            "WARNING:tensorflow:`period` argument is deprecated. Please use `save_freq` to specify the frequency in number of batches seen.\n",
            "Epoch 1/50\n",
            "1181/1181 [==============================] - 141s 117ms/step - loss: 6.7213 - categorical_accuracy: 0.0715 - val_loss: 6.1709 - val_categorical_accuracy: 0.0741\n",
            "Epoch 2/50\n",
            "1181/1181 [==============================] - 136s 115ms/step - loss: 6.1787 - categorical_accuracy: 0.0809 - val_loss: 5.8550 - val_categorical_accuracy: 0.1115\n",
            "Epoch 3/50\n",
            "1181/1181 [==============================] - 137s 116ms/step - loss: 5.6543 - categorical_accuracy: 0.1237 - val_loss: 5.5407 - val_categorical_accuracy: 0.1546\n",
            "Epoch 4/50\n",
            "1181/1181 [==============================] - 137s 116ms/step - loss: 5.1359 - categorical_accuracy: 0.1704 - val_loss: 5.3351 - val_categorical_accuracy: 0.1713\n",
            "Epoch 5/50\n",
            "1181/1181 [==============================] - 137s 116ms/step - loss: 4.5139 - categorical_accuracy: 0.2215 - val_loss: 5.3613 - val_categorical_accuracy: 0.1749\n",
            "Epoch 6/50\n",
            "1181/1181 [==============================] - 137s 116ms/step - loss: 4.0178 - categorical_accuracy: 0.2681 - val_loss: 5.3905 - val_categorical_accuracy: 0.1766\n",
            "Epoch 7/50\n",
            "1181/1181 [==============================] - 137s 116ms/step - loss: 3.2395 - categorical_accuracy: 0.3579 - val_loss: 5.5547 - val_categorical_accuracy: 0.1746\n",
            "Epoch 8/50\n",
            "1181/1181 [==============================] - 137s 116ms/step - loss: 2.4489 - categorical_accuracy: 0.4735 - val_loss: 5.7461 - val_categorical_accuracy: 0.1551\n",
            "loading model...\n",
            "a a a a a a a a a a a a a a a a but the true test of any hotel, as you know, is that morning cup of coffee.\n",
            " cooper (delighted) leland did you have a chance to try and try to imagine her.\n",
            " cooper (quietly) i'm a man who don't know what? cooper (without a beat) i wasn't even sure you i'm going to have you seen.\n",
            ".. (2) cooper (delighted) you're here, ask you a little bit of me.\n",
            " i'm going to tell you the truth, i'm going to tell you about this business.\n",
            " my partner, the mill? albert she was a little bit of her.\n",
            " cooper takes the back of the door opens it.\n",
            " cooper (delighted) you can do you have to do you think? bobby (2) cooper (a beat) when was my life.\n",
            " i'll get you out of my sight, the green butt skunk breaks their concentration.\n",
            " cooper (touched) i don't know what's about? bobby i'm gonna eat you up.\n",
            " bobby (ben) so perhaps you see you? cooper (a beat) memory in the background, i'd be be best friends this business is n't have any proof of the all right in the kitchen, and a little boy carries the tray to the old woman gestures toward the coffee table.\n",
            " cooper and reaches for the door, carrying a covered meal tray.\n",
            " she starts to cry, then: ben what's left been here.\n",
            " shelly (delighted) cooper did you have been thinking about one last night.\n",
            " cut to: int.\n",
            " great northern hotel corridor - night audrey moves down.\n",
            " the morning, the\n"
          ],
          "name": "stdout"
        }
      ]
    }
  ]
}