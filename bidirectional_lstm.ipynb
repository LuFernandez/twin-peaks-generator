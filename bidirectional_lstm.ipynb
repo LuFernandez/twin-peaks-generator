{
  "nbformat": 4,
  "nbformat_minor": 0,
  "metadata": {
    "kernelspec": {
      "display_name": "Python 3",
      "language": "python",
      "name": "python3"
    },
    "language_info": {
      "codemirror_mode": {
        "name": "ipython",
        "version": 3
      },
      "file_extension": ".py",
      "mimetype": "text/x-python",
      "name": "python",
      "nbconvert_exporter": "python",
      "pygments_lexer": "ipython3",
      "version": "3.5.3"
    },
    "colab": {
      "name": "bidirectional-lstm.ipynb",
      "provenance": [],
      "collapsed_sections": [],
      "toc_visible": true,
      "include_colab_link": true
    },
    "accelerator": "GPU"
  },
  "cells": [
    {
      "cell_type": "markdown",
      "metadata": {
        "id": "view-in-github",
        "colab_type": "text"
      },
      "source": [
        "<a href=\"https://colab.research.google.com/github/LuFernandez/twin-peaks-generator/blob/master/bidirectional_lstm.ipynb\" target=\"_parent\"><img src=\"https://colab.research.google.com/assets/colab-badge.svg\" alt=\"Open In Colab\"/></a>"
      ]
    },
    {
      "cell_type": "markdown",
      "metadata": {
        "id": "1IZzJr-AWOuC"
      },
      "source": [
        "# Text Generation using Bidirectional LSTM and Doc2Vec models\n",
        "\n",
        "The purpose of [this article](https://medium.com/@david.campion/text-generation-using-bidirectional-lstm-and-doc2vec-models-1-3-8979eb65cb3a) is to discuss about text generation, using machine learning approaches, especially neural networks.\n",
        "\n",
        "It is not the first article about it, and probably not the last. Actually, there is a lot of litterature about text generation using \"AI\" techniques, and some codes are available to generate texts from existing novels, trying to create new chapters for **\"Game of Thrones\"**, **\"Harry Potter\"**, or a new piece in the style of **Shakespears**. Sometimes with interesting results.\n",
        "\n",
        "Mainly, these approaches are using classic LSTM networks, and the are pretty fun to be experimented.\n",
        "\n",
        "However, generated texts provide a taste of unachievement. Generated sentences seems quite right, whith correct grammar and syntax, as if the neural network was understanding correctly the structure of a sentence. But the whole new text does not have great sense. If it is not complete nosense. \n",
        "\n",
        "This problem could come from the approach itself, using only LSTM to generate text word by word. But how can we improve them ? In this article, I will try to investigate a new way to generate sentences.\n",
        "\n",
        "It does not mean that I will use something completely different from LTSM : I am not, I will use LTSM network to generate sequences of words. However I will try to go further than a classic LSTM neural network and I will use an additional neural network (LSTM again), to select the best phrases.\n",
        "\n",
        "Then, this article can be used as a tutorial. It describes :\n",
        " 1. **how to train a neural network to generate sentences** (i.e. sequences of words), based on existing novels. I will use a bidirectional LSTM Architecture to perform that.\n",
        " 2. **how to train a neural network to select the best next sentence for given paragraph** (i.e. a sequence of sentences). I will also use a bidirectional LSTM archicture, in addition to a Doc2Vec model of the target novels.\n",
        "\n",
        "\n",
        "### Note about Data inputs\n",
        "As data inputs, I will not use texts which are not free in term of intellectual properties. So I will not train the solution to create a new chapter for **\"Game of Throne\"** or **\"Harry Potter\"**.\n",
        "Sorry about that, there is plenty of \"free\" text to perform such texts generation exercices and we can dive into the [Gutemberg project](http://www.gutenberg.org), which provides huge amount of texts (from [William Shakespears](http://www.gutenberg.org/ebooks/author/65) to [H.P. Lovecraft](http://www.gutenberg.org/ebooks/author/34724), or other great authors).\n",
        "\n",
        "However, I am also a french author of fantasy and Science fiction. So I will use my personnal material to create a new chapter of my stories, hoping it can help me in my next work!\n",
        "\n",
        "So, I will base this exercice on **\"Artistes et Phalanges\"**, a french fantasy novel I wrote over the 10 past years, wich I hope will be fair enough in term of data inputs. It contains more than 830 000 charaters.\n",
        "\n",
        "By the way, if you're a french reader and found of fantasy, you can find it on iBook store and Amazon Kindle for free... Please note I provide also the data for free on my github repository. Enjoy it!\n",
        "\n",
        "## 1. a Neural Network for Generating Sentences\n",
        "\n",
        "The first step is to generate sentences in the style of a given author.\n",
        "\n",
        "There is huge litterature about it, espacially using LSTM to perform such task. As this kind of network are working well for this job, we will use them.\n",
        "\n",
        "The purpose of this note is not to deep dive into LSTM description, you can find very great article about them and I suggest you to read [this article](http://karpathy.github.io/2015/05/21/rnn-effectiveness/) from Andrej Karpathy.\n",
        "\n",
        "You can also find easily existing code to perform text generation using LSTM. On my github, you can find two tutorials, one using [Tensorflow](https://github.com/campdav/text-rnn-tensorflow), and another one using [Keras](https://github.com/campdav/text-rnn-keras) (over tensorflow), that is easier to understand.\n",
        "\n",
        "For this first part of these exercice, I will re-use these materials, but with few improvements :\n",
        " - Instead of a simple _LSTM_, I will use a _bidirectional LSTM_. This network configuration converge faster than a single LSTM (less epochs are required), and from empiric tests, seems better in term of accuracy. You can have a look at [this article](https://machinelearningmastery.com/develop-bidirectional-lstm-sequence-classification-python-keras/) from Jason Brownlee, for a good tutorial about bidirectional LSTM.\n",
        " - I will use Keras, which require less complexity to create the network of is more readible than conventional Tensorflow code.\n",
        "\n",
        "### 1.1. What is the neural network task in our case ?\n",
        "\n",
        "LSTM (Long Short Term Memory) are very good for analysing sequences of values and predicting the next values from them. For example, LSTM could be a very good choice if you want to predict the very next point of a given time serie (assuming a correlation exist in the sequence).\n",
        "\n",
        "Talking about sentences and texts ; phrases (sentences) are basically sequences of words. So, it is natural to assume LSTM could be usefull to generate the next word of a given sentence.\n",
        "\n",
        "In summary, the objective of a LSTM neural network in this situation is to guess the next word of a given sentence.\n",
        "\n",
        "For example:\n",
        "What is the next word of this following sentence : \"he is walking down the\"\n",
        "\n",
        "Our neural net will take the sequence of words as input : \"he\", \"is\", \"walking\", ...\n",
        "Its ouput will be a matrix providing the probability for each word from the dictionnary to be the next one of the given sentence.\n",
        "\n",
        "Then, how will we build the complete text ? Simply iterating the process, by switching the setence by one word, including the new guessed word at its end. Then, we guess a new word for this new sentence. ad vitam aeternam.\n",
        "\n",
        "### 1.1.1. Process\n",
        "\n",
        "In order to do that, first, we build a dictionary containing all words from the novels we want to use.\n",
        "\n",
        " 1. read the data (the novels we want to use),\n",
        " 1. create the dictionnary of words,\n",
        " 2. create the list of sentences,\n",
        " 3. create the neural network,\n",
        " 4. train the neural network,\n",
        " 5. generate new sentences."
      ]
    },
    {
      "cell_type": "code",
      "metadata": {
        "colab": {
          "base_uri": "https://localhost:8080/"
        },
        "id": "BzDrR6o24gX1",
        "outputId": "d8187c20-19c4-4e93-96c3-edfce02b044b"
      },
      "source": [
        "from google.colab import drive\n",
        "drive.mount('/content/drive')"
      ],
      "execution_count": 1,
      "outputs": [
        {
          "output_type": "stream",
          "text": [
            "Drive already mounted at /content/drive; to attempt to forcibly remount, call drive.mount(\"/content/drive\", force_remount=True).\n"
          ],
          "name": "stdout"
        }
      ]
    },
    {
      "cell_type": "code",
      "metadata": {
        "id": "74f1O2AYWOuH"
      },
      "source": [
        "from __future__ import print_function\n",
        "from keras.models import Sequential, Model\n",
        "from keras.layers import Dense, Activation, Dropout\n",
        "from keras.layers import LSTM, Input, Flatten, Bidirectional\n",
        "from keras.layers.normalization import BatchNormalization\n",
        "from keras.optimizers import Adam\n",
        "from keras.callbacks import EarlyStopping, ModelCheckpoint\n",
        "from keras.metrics import categorical_accuracy\n",
        "import numpy as np\n",
        "import random\n",
        "import sys\n",
        "import os\n",
        "import time\n",
        "import codecs\n",
        "import collections\n",
        "from six.moves import cPickle"
      ],
      "execution_count": 2,
      "outputs": []
    },
    {
      "cell_type": "markdown",
      "metadata": {
        "id": "rKQlhpYLWOuI"
      },
      "source": [
        "We have raw text and a lot of things have to be done to use them: split them in words list, etc.\n",
        "In order to do that, I use the spacy library which is incredible to deal with texts. For this exercice, I will only use very few options from spacy."
      ]
    },
    {
      "cell_type": "code",
      "metadata": {
        "collapsed": true,
        "id": "tBCLWPcZWOuI"
      },
      "source": [
        "#import spacy, and english model\n",
        "import spacy\n",
        "nlp = spacy.load('en')"
      ],
      "execution_count": 3,
      "outputs": []
    },
    {
      "cell_type": "markdown",
      "metadata": {
        "id": "-A66-e91WOuJ"
      },
      "source": [
        "# parameters"
      ]
    },
    {
      "cell_type": "code",
      "metadata": {
        "collapsed": true,
        "id": "V6S-FjXjWOuJ"
      },
      "source": [
        "data_dir = '/content/drive/MyDrive/twin-peaks-generator/data'# data directory containing input.txt\n",
        "save_dir = '/content/drive/MyDrive/twin-peaks-generator/save' # directory to store models\n",
        "seq_length = 20 # sequence length\n",
        "sequences_step = 1 #step to create sequences"
      ],
      "execution_count": 4,
      "outputs": []
    },
    {
      "cell_type": "code",
      "metadata": {
        "collapsed": true,
        "id": "GSGnk4ayWOuK"
      },
      "source": [
        "# file_list = [\"100\",\"101\",\"102\",\"103\",\"104\",\"105\",\"201\",\"202\",\"203\",\"204\",\"205\",\"206\",\"207\",\"208\",\"209\",\"210\",\"211\",\"212\",\"213\",\"214\",\"215\",\"216\",\"217\",\"218\",\"219\",\"220\",\"221\",\"222\"]\n",
        "file_list = [\"101\",\"102\",\"103\",\"104\"]\n",
        "vocab_file = os.path.join(save_dir, \"words_vocab.pkl\")"
      ],
      "execution_count": 5,
      "outputs": []
    },
    {
      "cell_type": "markdown",
      "metadata": {
        "id": "hLi_ZvgkWOuK"
      },
      "source": [
        "# read data\n",
        "\n",
        "I create a specific function to create a list of words from raw text. I use spacy library, with a specific function to retrieve only lower character of the words and remove carriage returns (\\n).\n",
        "\n",
        "I am doing that because I want to reduce the number of potential words in my dictionnary, and I assume we do not have to avoid capital letters. Indeed, they are only part of the syntax of the text, it's shape, and do not deals with its sense."
      ]
    },
    {
      "cell_type": "code",
      "metadata": {
        "collapsed": true,
        "id": "CLpVmxTGWOuK"
      },
      "source": [
        "def create_wordlist(doc):\n",
        "    wl = []\n",
        "    for word in doc:\n",
        "        if word.text not in (\"\\n\",\"\\n\\n\",'\\u2009','\\xa0'):\n",
        "            wl.append(word.text.lower())\n",
        "    return wl"
      ],
      "execution_count": 6,
      "outputs": []
    },
    {
      "cell_type": "markdown",
      "metadata": {
        "id": "Cwp-SqxEWOuL"
      },
      "source": [
        "Create the list of sentences:"
      ]
    },
    {
      "cell_type": "code",
      "metadata": {
        "collapsed": true,
        "id": "7tSqMUNfWOuL"
      },
      "source": [
        "wordlist = []\n",
        "for file_name in file_list:\n",
        "    input_file = os.path.join(data_dir, file_name + \".txt\")\n",
        "    #read data\n",
        "    with codecs.open(input_file, \"r\") as f:\n",
        "        data = f.read()\n",
        "    #create sentences\n",
        "    doc = nlp(data)\n",
        "    wl = create_wordlist(doc)\n",
        "    wordlist = wordlist + wl"
      ],
      "execution_count": 7,
      "outputs": []
    },
    {
      "cell_type": "code",
      "metadata": {
        "colab": {
          "base_uri": "https://localhost:8080/"
        },
        "id": "jiSXxyky7HYB",
        "outputId": "2c842c6f-831e-45c2-f78e-7da20176b15c"
      },
      "source": [
        "len(wordlist)"
      ],
      "execution_count": 8,
      "outputs": [
        {
          "output_type": "execute_result",
          "data": {
            "text/plain": [
              "51470"
            ]
          },
          "metadata": {
            "tags": []
          },
          "execution_count": 8
        }
      ]
    },
    {
      "cell_type": "markdown",
      "metadata": {
        "id": "C1CobyAiWOuM"
      },
      "source": [
        "## Create dictionnary\n",
        "\n",
        "The first step is to create the dictionnary, it means, the list of all words contained in texts. For each word, we will assign an index to it. "
      ]
    },
    {
      "cell_type": "code",
      "metadata": {
        "id": "9_g7kc5RWOuM",
        "colab": {
          "base_uri": "https://localhost:8080/"
        },
        "outputId": "39988231-eaeb-4922-dbc5-b077b7abe539"
      },
      "source": [
        "# count the number of words\n",
        "word_counts = collections.Counter(wordlist)\n",
        "\n",
        "# Mapping from index to word : that's the vocabulary\n",
        "vocabulary_inv = [x[0] for x in word_counts.most_common()]\n",
        "vocabulary_inv = list(sorted(vocabulary_inv))\n",
        "\n",
        "# Mapping from word to index\n",
        "vocab = {x: i for i, x in enumerate(vocabulary_inv)}\n",
        "words = [x[0] for x in word_counts.most_common()]\n",
        "\n",
        "#size of the vocabulary\n",
        "vocab_size = len(words)\n",
        "print(\"vocab size: \", vocab_size)\n",
        "\n",
        "#save the words and vocabulary\n",
        "with open(os.path.join(vocab_file), 'wb') as f:\n",
        "    cPickle.dump((words, vocab, vocabulary_inv), f)"
      ],
      "execution_count": 9,
      "outputs": [
        {
          "output_type": "stream",
          "text": [
            "vocab size:  4797\n"
          ],
          "name": "stdout"
        }
      ]
    },
    {
      "cell_type": "markdown",
      "metadata": {
        "id": "CriCBCC9WOuO"
      },
      "source": [
        "## create sequences\n",
        "Now, we have to create the input data for our LSTM. We create two lists:\n",
        " - **sequences**: this list will contain the sequences of words used to train the model,\n",
        " - **next_words**: this list will contain the next words for each sequences of the **sequences** list.\n",
        " \n",
        "In this exercice, we assume we will train the network with sequences of 30 words (seq_length = 30).\n",
        "\n",
        "So, to create the first sequence of words, we take the 30th first words in the **wordlist** list. The word 31 is the next word of this first sequence, and is added to the **next_words** list.\n",
        "\n",
        "Then we jump by a step of 1 (sequences_step = 1 in our example) in the list of words, to create the second sequence of words and retrieve the second \"next word\".\n",
        "\n",
        "We iterate this task until the end of the list of words."
      ]
    },
    {
      "cell_type": "code",
      "metadata": {
        "id": "sAecFMYhWOuP",
        "colab": {
          "base_uri": "https://localhost:8080/"
        },
        "outputId": "e8008989-b5b2-42b4-e620-08524a12dff5"
      },
      "source": [
        "#create sequences\n",
        "sequences = []\n",
        "next_words = []\n",
        "for i in range(0, len(wordlist) - seq_length, sequences_step):\n",
        "    sequences.append(wordlist[i: i + seq_length])\n",
        "    next_words.append(wordlist[i + seq_length])\n",
        "\n",
        "print('nb sequences:', len(sequences))"
      ],
      "execution_count": 10,
      "outputs": [
        {
          "output_type": "stream",
          "text": [
            "nb sequences: 51450\n"
          ],
          "name": "stdout"
        }
      ]
    },
    {
      "cell_type": "markdown",
      "metadata": {
        "id": "3ZZMPiXqWOuQ"
      },
      "source": [
        "When we iterate over the whole list of words, we create 172104 sequences of words, and retrieve, for each of them, the next word to be predicted.\n",
        "\n",
        "However, these lists cannot be used \"as is\". We have to transform them in order to ingest them in the LSTM. Text will not be understood by neural net, we have to use digits.\n",
        "However, we cannot only map a words to its index in the vocabulary, as it does not represent intrasinqly the word. It is better to reorganize a sequence of words as a matrix of booleans.\n",
        "\n",
        "So, we create the matrix X and y :\n",
        " - X : the matrix of the following dimensions:\n",
        "     - number of sequences,\n",
        "     - number of words in sequences,\n",
        "     - number of words in the vocabulary.\n",
        " - y : the matrix of the following dimensions:\n",
        "     - number of sequences,\n",
        "     - number of words in the vocabulary.\n",
        " \n",
        "For each word, we retrieve its index in the vocabulary, and we set to 1 its position in the matrix."
      ]
    },
    {
      "cell_type": "code",
      "metadata": {
        "collapsed": true,
        "id": "jB6Js0cAWOuR",
        "colab": {
          "base_uri": "https://localhost:8080/"
        },
        "outputId": "a7affc93-12b4-4c16-8018-2d61361132aa"
      },
      "source": [
        "X = np.zeros((len(sequences), seq_length, vocab_size), dtype=np.bool)\n",
        "y = np.zeros((len(sequences), vocab_size), dtype=np.bool)\n",
        "for i, sentence in enumerate(sequences):\n",
        "    for t, word in enumerate(sentence):\n",
        "        X[i, t, vocab[word]] = 1\n",
        "    y[i, vocab[next_words[i]]] = 1\n",
        "\n",
        "print(np.shape(X))"
      ],
      "execution_count": 11,
      "outputs": [
        {
          "output_type": "stream",
          "text": [
            "(51450, 20, 4797)\n"
          ],
          "name": "stdout"
        }
      ]
    },
    {
      "cell_type": "markdown",
      "metadata": {
        "id": "f9kAzHF1WOuR"
      },
      "source": [
        "# Build Model"
      ]
    },
    {
      "cell_type": "markdown",
      "metadata": {
        "id": "UaYn6zl3WOuS"
      },
      "source": [
        "Now, here come the fun part. The creation of the neural network.\n",
        "As you will see, I am using Keras which provide very good abstraction to design an architecture.\n",
        "\n",
        "In this example, I create the following neural network:\n",
        " - bidirectional LSTM,\n",
        " - with size of 256 and using RELU as activation,\n",
        " - then a dropout layer of 0,6 (it's pretty high, but necesseray to avoid quick divergence)\n",
        " \n",
        "\n",
        "The net should provide me a probability for each word of the vocabulary to be the next one after a given sentence. So I end it with:\n",
        "\n",
        " - a simple dense layer of the size of the vocabulary,\n",
        " - a softmax activation.\n",
        " \n",
        "I use ADAM as otpimizer and the loss calculation is done on the categorical crossentropy.\n",
        "\n",
        "Here is the function to build the network:"
      ]
    },
    {
      "cell_type": "code",
      "metadata": {
        "collapsed": true,
        "id": "_yzdAy6vWOuS"
      },
      "source": [
        "def bidirectional_lstm_model(seq_length, vocab_size):\n",
        "    print('Build LSTM model.')\n",
        "    model = Sequential()\n",
        "    #model.add(Bidirectional(LSTM(rnn_size, activation=\"relu\"),input_shape=(seq_length, vocab_size)))\n",
        "    model.add(Bidirectional(LSTM(rnn_size, activation=\"tanh\", recurrent_activation = \"sigmoid\", recurrent_dropout = 0, use_bias=True,unroll= False),input_shape=(seq_length, vocab_size)))\n",
        "    model.add(Dropout(0.6))\n",
        "    model.add(Dense(vocab_size))\n",
        "    model.add(Activation('softmax'))\n",
        "    \n",
        "    optimizer = Adam(lr=learning_rate)\n",
        "    callbacks=[EarlyStopping(patience=2, monitor='val_loss')]\n",
        "    model.compile(loss='categorical_crossentropy', optimizer=optimizer, metrics=[categorical_accuracy])\n",
        "    return model"
      ],
      "execution_count": 12,
      "outputs": []
    },
    {
      "cell_type": "code",
      "metadata": {
        "collapsed": true,
        "id": "iUluxwv5WOuT"
      },
      "source": [
        "rnn_size = 256 # size of RNN\n",
        "batch_size = 32 # minibatch size\n",
        "seq_length = seq_length # sequence length\n",
        "num_epochs = 10 # number of epochs\n",
        "learning_rate = 0.001 #learning rate\n",
        "sequences_step = 1 #step to create sequences"
      ],
      "execution_count": 13,
      "outputs": []
    },
    {
      "cell_type": "code",
      "metadata": {
        "id": "DpxNZxQeWOuT",
        "colab": {
          "base_uri": "https://localhost:8080/"
        },
        "outputId": "e9dedac2-d402-4cdc-c358-069358724a5c"
      },
      "source": [
        "print(vocab_size)\n",
        "md = bidirectional_lstm_model(seq_length, vocab_size)\n",
        "md.summary()"
      ],
      "execution_count": 14,
      "outputs": [
        {
          "output_type": "stream",
          "text": [
            "4797\n",
            "Build LSTM model.\n",
            "Model: \"sequential\"\n",
            "_________________________________________________________________\n",
            "Layer (type)                 Output Shape              Param #   \n",
            "=================================================================\n",
            "bidirectional (Bidirectional (None, 512)               10350592  \n",
            "_________________________________________________________________\n",
            "dropout (Dropout)            (None, 512)               0         \n",
            "_________________________________________________________________\n",
            "dense (Dense)                (None, 4797)              2460861   \n",
            "_________________________________________________________________\n",
            "activation (Activation)      (None, 4797)              0         \n",
            "=================================================================\n",
            "Total params: 12,811,453\n",
            "Trainable params: 12,811,453\n",
            "Non-trainable params: 0\n",
            "_________________________________________________________________\n"
          ],
          "name": "stdout"
        }
      ]
    },
    {
      "cell_type": "markdown",
      "metadata": {
        "id": "blH8DiXZWOuT"
      },
      "source": [
        "If a print the summary of this model, you can see it has close to 61 millions of trainable parameters. It is huge, and the compute will take some time to complete."
      ]
    },
    {
      "cell_type": "markdown",
      "metadata": {
        "id": "_AFdvB03WOuU"
      },
      "source": [
        "## train data"
      ]
    },
    {
      "cell_type": "markdown",
      "metadata": {
        "id": "FsALVBmdWOuU"
      },
      "source": [
        "Enough speech, we train the model now. We shuffle the training set and extract 10% of it as validation sample. We simply run :"
      ]
    },
    {
      "cell_type": "code",
      "metadata": {
        "scrolled": true,
        "id": "vql6vZJQWOuU",
        "colab": {
          "base_uri": "https://localhost:8080/"
        },
        "outputId": "403743f9-024a-4d8e-ebc5-ba4633a399f3"
      },
      "source": [
        "#fit the model\n",
        "callbacks=[EarlyStopping(patience=4, monitor='val_loss'),\n",
        "           ModelCheckpoint(filepath=save_dir + \"/\" + 'my_model_gen_sentences_lstm.{epoch:02d}-{val_loss:.2f}.hdf5',\\\n",
        "                           monitor='val_loss', verbose=0, mode='auto', period=2)]\n",
        "history = md.fit(X, y,\n",
        "                 batch_size=batch_size,\n",
        "                 shuffle=True,\n",
        "                 epochs=num_epochs,\n",
        "                 callbacks=callbacks,\n",
        "                 validation_split=0.01)"
      ],
      "execution_count": 15,
      "outputs": [
        {
          "output_type": "stream",
          "text": [
            "WARNING:tensorflow:`period` argument is deprecated. Please use `save_freq` to specify the frequency in number of batches seen.\n",
            "Epoch 1/10\n",
            "1592/1592 [==============================] - 63s 19ms/step - loss: 6.4437 - categorical_accuracy: 0.0692 - val_loss: 5.7993 - val_categorical_accuracy: 0.0835\n",
            "Epoch 2/10\n",
            "1592/1592 [==============================] - 29s 18ms/step - loss: 5.7064 - categorical_accuracy: 0.1075 - val_loss: 5.3655 - val_categorical_accuracy: 0.1786\n",
            "Epoch 3/10\n",
            "1592/1592 [==============================] - 30s 19ms/step - loss: 5.2344 - categorical_accuracy: 0.1525 - val_loss: 5.1535 - val_categorical_accuracy: 0.1942\n",
            "Epoch 4/10\n",
            "1592/1592 [==============================] - 30s 19ms/step - loss: 4.8132 - categorical_accuracy: 0.1894 - val_loss: 5.1279 - val_categorical_accuracy: 0.2117\n",
            "Epoch 5/10\n",
            "1592/1592 [==============================] - 30s 19ms/step - loss: 4.4506 - categorical_accuracy: 0.2200 - val_loss: 5.0937 - val_categorical_accuracy: 0.2078\n",
            "Epoch 6/10\n",
            "1592/1592 [==============================] - 31s 19ms/step - loss: 4.0550 - categorical_accuracy: 0.2567 - val_loss: 5.0706 - val_categorical_accuracy: 0.2175\n",
            "Epoch 7/10\n",
            "1592/1592 [==============================] - 31s 19ms/step - loss: 3.6401 - categorical_accuracy: 0.3046 - val_loss: 5.2674 - val_categorical_accuracy: 0.1825\n",
            "Epoch 8/10\n",
            "1592/1592 [==============================] - 31s 20ms/step - loss: 3.2230 - categorical_accuracy: 0.3596 - val_loss: 5.3826 - val_categorical_accuracy: 0.1689\n",
            "Epoch 9/10\n",
            "1592/1592 [==============================] - 31s 20ms/step - loss: 2.8056 - categorical_accuracy: 0.4197 - val_loss: 5.3746 - val_categorical_accuracy: 0.1845\n",
            "Epoch 10/10\n",
            "1592/1592 [==============================] - 31s 20ms/step - loss: 2.4165 - categorical_accuracy: 0.4779 - val_loss: 5.6654 - val_categorical_accuracy: 0.1592\n"
          ],
          "name": "stdout"
        }
      ]
    },
    {
      "cell_type": "code",
      "metadata": {
        "id": "ZNzfqr8uWOuV"
      },
      "source": [
        "#save the model\n",
        "md.save(save_dir + \"/\" + 'my_model_gen_sentences_lstm.final.hdf5')"
      ],
      "execution_count": 16,
      "outputs": []
    },
    {
      "cell_type": "markdown",
      "metadata": {
        "id": "do6n9-T3WOuV"
      },
      "source": [
        "# Generate phrase"
      ]
    },
    {
      "cell_type": "markdown",
      "metadata": {
        "id": "e6OyIAnxWOuW"
      },
      "source": [
        "Great !\n",
        "We have now trained a model to predict the next word of a given sequence of words. In order to generate text, the task is pretty simple:\n",
        "\n",
        " - we define a \"seed\" sequence of 30 words (30 is the number of words required by the neural net for the sequences),\n",
        " - we ask the neural net to predict word number 31,\n",
        " - then we update the sequence by moving words by a step of 1, adding words number 31 at its end,\n",
        " - we ask the neural net to predict word number 32,\n",
        " - etc. For as long as we want.\n",
        " \n",
        "Doing this, we generate phrases, word by word."
      ]
    },
    {
      "cell_type": "code",
      "metadata": {
        "id": "LVht5nitWOuW",
        "colab": {
          "base_uri": "https://localhost:8080/"
        },
        "outputId": "e50d0064-8cdf-42f3-f829-00a24bb8572e"
      },
      "source": [
        "#load vocabulary\n",
        "print(\"loading vocabulary...\")\n",
        "vocab_file = os.path.join(save_dir, \"words_vocab.pkl\")\n",
        "\n",
        "with open(os.path.join(save_dir, 'words_vocab.pkl'), 'rb') as f:\n",
        "        words, vocab, vocabulary_inv = cPickle.load(f)\n",
        "\n",
        "vocab_size = len(words)"
      ],
      "execution_count": 17,
      "outputs": [
        {
          "output_type": "stream",
          "text": [
            "loading vocabulary...\n"
          ],
          "name": "stdout"
        }
      ]
    },
    {
      "cell_type": "code",
      "metadata": {
        "id": "_uTwG2VeWOuW",
        "colab": {
          "base_uri": "https://localhost:8080/"
        },
        "outputId": "868ef7e2-055a-4ce2-b06d-bc67c54bf3ff"
      },
      "source": [
        "from keras.models import load_model\n",
        "# load the model\n",
        "print(\"loading model...\")\n",
        "model = load_model(save_dir + \"/\" + 'my_model_gen_sentences_lstm.final.hdf5')"
      ],
      "execution_count": 18,
      "outputs": [
        {
          "output_type": "stream",
          "text": [
            "loading model...\n"
          ],
          "name": "stdout"
        }
      ]
    },
    {
      "cell_type": "markdown",
      "metadata": {
        "id": "cUc3XgxPWOuX"
      },
      "source": [
        "To improve the word generation, and tune a bit the prediction, we introduce a specific function to pick-up words.\n",
        "\n",
        "We will not take the words with the highest prediction (or the generation of text will be boring), but would like to insert some uncertainties, and let the solution sometime pick-up words with less good prediction.\n",
        "\n",
        "That is the purpose of the function **sample**, that will draw radomly a word from the vocabulary.\n",
        "\n",
        "The probabilty for a word to be drawn will depends directly on its probability to be the next word. In order to tune this probability, we introduce a \"temperature\" to smooth or sharpen its value."
      ]
    },
    {
      "cell_type": "code",
      "metadata": {
        "collapsed": true,
        "id": "Npi--Zf6WOuY"
      },
      "source": [
        "def sample(preds, temperature=1.0):\n",
        "    # helper function to sample an index from a probability array\n",
        "    preds = np.asarray(preds).astype('float64')\n",
        "    preds = np.log(preds) / temperature\n",
        "    exp_preds = np.exp(preds)\n",
        "    preds = exp_preds / np.sum(exp_preds)\n",
        "    probas = np.random.multinomial(1, preds, 1)\n",
        "    return np.argmax(probas)"
      ],
      "execution_count": 19,
      "outputs": []
    },
    {
      "cell_type": "code",
      "metadata": {
        "id": "zhEkv84VFZN3"
      },
      "source": [
        "# #test\n",
        "\n",
        "# words_number = 30 # number of words to generate\n",
        "# seed_sentences = \"the bright eye and beak of the bird , backlit by the first light of the rising sun .\" #seed sentence to start the generating.\n",
        "\n",
        "# #initiate sentences\n",
        "# generated = ''\n",
        "# sentence = []\n",
        "\n",
        "# #we shate the seed accordingly to the neural netwrok needs:\n",
        "# for i in range (seq_length):\n",
        "#     sentence.append(\"a\")\n",
        "\n",
        "# seed = seed_sentences.split()\n",
        "\n",
        "# for i in range(len(seed)):\n",
        "#     sentence[seq_length-i-1]=seed[len(seed)-i-1]\n",
        "\n",
        "# generated += ' '.join(sentence)\n",
        "\n",
        "# #the, we generate the text\n",
        "# for i in range(words_number):\n",
        "#     #create the vector\n",
        "#     x = np.zeros((1, seq_length, vocab_size))\n",
        "#     for t, word in enumerate(sentence):\n",
        "#         x[0, t, vocab[word]] = 1.\n",
        "\n",
        "#     #calculate next word\n",
        "#     preds = model.predict(x, verbose=0)[0]\n",
        "#     next_index = sample(preds, 0.33)\n",
        "#     next_word = vocabulary_inv[next_index]\n",
        "\n",
        "#     #add the next word to the text\n",
        "#     generated += \" \" + next_word\n",
        "#     # shift the sentence by one, and and the next word at its end\n",
        "#     sentence = sentence[1:] + [next_word]\n",
        "\n",
        "# #print the whole text\n",
        "# print(generated)"
      ],
      "execution_count": 20,
      "outputs": []
    },
    {
      "cell_type": "code",
      "metadata": {
        "id": "6qHC-i-HWOuY",
        "colab": {
          "base_uri": "https://localhost:8080/"
        },
        "outputId": "59488e6a-4215-4a3c-8156-7becfc24e42f"
      },
      "source": [
        "#initiate sentences\n",
        "seed_sentences = 'but the true test of any hotel , as you know , is that morning cup of coffee .'\n",
        "generated = ''\n",
        "sentence = []\n",
        "for i in range (seq_length):\n",
        "    sentence.append(\"a\")\n",
        "\n",
        "seed = seed_sentences.split()\n",
        "\n",
        "for i in range(len(seed)):\n",
        "    sentence[seq_length-i-1]=seed[len(seed)-i-1]\n",
        "\n",
        "generated += ' '.join(sentence)\n",
        "print('Generating text with the following seed: \"' + ' '.join(sentence) + '\"')"
      ],
      "execution_count": 23,
      "outputs": [
        {
          "output_type": "stream",
          "text": [
            "Generating text with the following seed: \"a but the true test of any hotel , as you know , is that morning cup of coffee .\"\n",
            "\n"
          ],
          "name": "stdout"
        }
      ]
    },
    {
      "cell_type": "code",
      "metadata": {
        "id": "W2j6_mxuWOuZ",
        "colab": {
          "base_uri": "https://localhost:8080/"
        },
        "outputId": "aa866a71-d2c7-46fd-b71a-1a8491f54038"
      },
      "source": [
        "words_number = 1000\n",
        "#generate the text\n",
        "for i in range(words_number):\n",
        "    #create the vector\n",
        "    x = np.zeros((1, seq_length, vocab_size))\n",
        "    for t, word in enumerate(sentence):\n",
        "        x[0, t, vocab[word]] = 1.\n",
        "    #print(x.shape)\n",
        "\n",
        "    #calculate next word\n",
        "    preds = model.predict(x, verbose=0)[0]\n",
        "    next_index = sample(preds, 0.34)\n",
        "    next_word = vocabulary_inv[next_index]\n",
        "\n",
        "    #add the next word to the text\n",
        "    generated += \" \" + next_word\n",
        "    # shift the sentence by one, and and the next word at its end\n",
        "    sentence = sentence[1:] + [next_word]\n",
        "\n",
        "print(generated)\n"
      ],
      "execution_count": 24,
      "outputs": [
        {
          "output_type": "stream",
          "text": [
            "a but the true test of any hotel , as you know , is that morning cup of coffee . \n",
            "\n",
            "\n",
            "\n",
            " cooper ( more ) \n",
            "\n",
            "\n",
            "\n",
            " cooper who is that -- -- ? cooper ... ( thinks of his hand ) you 're gon na get a bandage on the moment ... cut to : \n",
            "\n",
            "\n",
            " int . sheriff 's station - day ed hurley , stands at the floor , a title of buddhism known , revealing a seat set off . ed looks at her , but the arm and pours off him . cut to : ext . ed hurley 's house - day the door is n't by a lawyer , looking at ed , steps into the living room , stops her and reaches into the house , then : ed hurley 's safe , then : int . ed hurley 's arms - day they look at each other . ed looks at the living room . steps toward the door . cut to : int . black lake cemetery - day in the key , we hear the lord of the title . bobby thank you , special agent dale cooper . cut to : ext . sheriff 's station reception area - day cooper and andy sit at the table , hawk 's cruiser as the police , past cooper his head , and hawk look at each other . mike and andy step away . cooper looks at him , but a beat . cooper takes him out of him . he picks up his eyes and closes his eyes . cut to : int . johnson house - day ben and norma enters the living room , sees leland and moves away . cut to : int . palmer house living room - day donna and james enters the living room , steps into her 's arms . donna james , trying to see you for a little man , she 's arms . donna and james it . donna ( to his hand ) i know you 're going to have a softie freeze ? james . donna ( more ) that i will be to be us , i do n't have to talk to us . pete ( more ) \n",
            "\n",
            "\n",
            "\n",
            " pete ( beat ) i 've been here to be in a whisper . pete is catherine , i 'm not going to see it . pete ( trying to stay ) ) i 'm not going to see her , she 's death , she takes a little line ) i 'm going to see you ... intercut : ext . motel room - night the diner - evening , and each other other . cut to : int . great northern hotel - day re - establish . cut to : int . palmer living room - day cooper and truman stand at the table , takes a sip of coffee , but leland palmer sits in his eyes , but he sets down the envelope of groceries and son . leland palmer sits in his desk , walk with him . leland looks at him , as he starts to face , then nods ) leland , finally to leland palmer , he 'll be sound . cut to : int . leland palmer bedroom - day leland palmer sits on the door , steps into the living room . leland leland palmer sits in her eyes , she whispers to her , she looks at her for her , leland , and leland palmer . he looks at her , then looks at her . leland leland palmer , leland and dance ... and dance . leland palmer . leland leland palmer . leland and leland . leland palmer , dance . leland palmer . leland leland . leland leland ? leland leland . leland leland . leland leland . leland she moves to him . leland leland ? leland leland , leland . leland leland ? leland leland ? leland ( to her ) ) leland ? leland leland . leland leland ? leland leland ? leland ... ( more ) \n",
            "\n",
            "\n",
            "\n",
            " leland leland ? leland leland , leland . leland looks to him , leland . leland 's voice and leland leland . leland have to dance with me . ben and leland palmer . leland ( looks at her ) leland palmer , stop , stop . leland leland , leland ? leland she looks to her , but leland and leland palmer . leland leland . leland leland palmer . leland palmer . sarah . leland leland , leland ? leland . leland leland . leland leland ? leland leland . he starts to dance . leland starts to dance with her picture . leland leland , leland palmer palmer has dance in . dance with me . ben leland palmer . leland leland palmer 's been for a picture . ben ( takes a beat ) ben leland her eyes , but and emerald , who , i am ... to me . he 's alarmed . \n",
            "\n",
            "\n",
            "\n",
            " chet , you 've got here to me ? donna ( more ) \n",
            "\n",
            "\n",
            "\n",
            " those those are are we 're going to have to me ? donna ( smiles ) audrey are you want to see us ? donna ( more ) \n",
            "\n",
            "\n",
            "\n",
            " donna ( more ) \n",
            "\n",
            "\n",
            " audrey i want to see you to be . we 're gon na get him to be a lot . audrey ( getting ) to you , this is good boy , but i 'll be very careful . cooper ( more ) \n",
            "\n",
            "\n",
            "\n",
            " \n",
            "\n",
            "\n",
            "\n",
            " shelly you 're gon na go out a couple of days . cooper ( more ) \n",
            "\n",
            "\n",
            " shelly what you do n't know i know that ? i do n't know . i ca n't know what i 've got to work , i 'll be sure , but that 's gon na get the key out of the world . we 're gon na get\n"
          ],
          "name": "stdout"
        }
      ]
    }
  ]
}